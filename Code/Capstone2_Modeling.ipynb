{
 "cells": [
  {
   "cell_type": "code",
   "execution_count": 9,
   "metadata": {},
   "outputs": [],
   "source": [
    "import numpy as np\n",
    "import pandas as pd\n",
    "import matplotlib.pyplot as plt\n",
    "from sklearn.preprocessing import StandardScaler\n",
    "from sklearn.model_selection import train_test_split\n",
    "from sklearn.preprocessing import OrdinalEncoder\n",
    "\n",
    "import warnings\n",
    "warnings.filterwarnings(\"ignore\")"
   ]
  },
  {
   "cell_type": "code",
   "execution_count": 10,
   "metadata": {},
   "outputs": [],
   "source": [
    "# Load the dataset\n",
    "\n",
    "df = pd.read_csv('C:/Users/vumac/Desktop/Springboard_Capstone2/Dataset/BankChurners_cleaned.csv', index_col=0)"
   ]
  },
  {
   "cell_type": "code",
   "execution_count": 11,
   "metadata": {},
   "outputs": [],
   "source": [
    "# Preprocessing from previous notebook\n",
    "\n",
    "# Fill missing value with 'Other'. Per previous EDA notebook, Education_Level, Marital_Status and Income_Category have \n",
    "df.fillna('Other', inplace=True)\n",
    "df.isnull().values.any()\n",
    "\n",
    "# Convert Atttrition Flag to 0 for Existing Customer and 1 for Attrited Customer\n",
    "df['Attrition_Flag'] = df.Attrition_Flag.map({'Existing Customer':0, 'Attrited Customer':1})\n",
    "\n",
    "# One Hot Encoding for categorical features\n",
    "df_feature = pd.get_dummies(df, columns=['Gender','Education_Level', 'Marital_Status', 'Income_Category', 'Card_Category'])\n",
    "\n",
    "# Create training and testing set\n",
    "# The dataset is imbalanced, so we will set 'stratify' to make train and test set have the same proportion of churn and no churn customers \n",
    "X = df_feature.drop('Attrition_Flag', axis=1)\n",
    "y = df_feature['Attrition_Flag']\n",
    "X_train, X_test, y_train, y_test = train_test_split(X, y, test_size=0.3, random_state=48, stratify=y)\n",
    "\n",
    "# List of numeric columns to apply StandardScaler\n",
    "numeric_col = ['Customer_Age', 'Dependent_count', 'Months_on_book', 'Total_Relationship_Count', 'Months_Inactive_12_mon',\n",
    "               'Contacts_Count_12_mon', 'Credit_Limit', 'Total_Revolving_Bal', 'Avg_Open_To_Buy', 'Total_Amt_Chng_Q4_Q1', \n",
    "               'Total_Trans_Amt', 'Total_Trans_Ct', 'Total_Ct_Chng_Q4_Q1', 'Avg_Utilization_Ratio']\n",
    "\n",
    "# Apply StandardScaler to df\n",
    "# Fit StandardScaler to training set\n",
    "scaler = StandardScaler()\n",
    "scaler.fit(X_train[numeric_col].values)\n",
    "\n",
    "# Create copies of training and testing set\n",
    "X_train_scaled = X_train.copy()\n",
    "X_test_scaled = X_test.copy()\n",
    "\n",
    "# Transform and assign scaled values to training set\n",
    "X_train_features = scaler.transform(X_train[numeric_col].values)\n",
    "X_train_scaled[numeric_col] = X_train_features\n",
    "\n",
    "# Transform and assign scaled values to testing set\n",
    "X_test_features = scaler.transform(X_test[numeric_col].values)\n",
    "X_test_scaled[numeric_col] = X_test_features"
   ]
  },
  {
   "cell_type": "code",
   "execution_count": 14,
   "metadata": {},
   "outputs": [
    {
     "data": {
      "text/plain": [
       "0        0\n",
       "1        0\n",
       "2        0\n",
       "3        0\n",
       "4        0\n",
       "        ..\n",
       "10122    0\n",
       "10123    1\n",
       "10124    1\n",
       "10125    1\n",
       "10126    1\n",
       "Name: Attrition_Flag, Length: 10127, dtype: int64"
      ]
     },
     "execution_count": 14,
     "metadata": {},
     "output_type": "execute_result"
    }
   ],
   "source": [
    "y"
   ]
  }
 ],
 "metadata": {
  "kernelspec": {
   "display_name": "Python 3",
   "language": "python",
   "name": "python3"
  },
  "language_info": {
   "codemirror_mode": {
    "name": "ipython",
    "version": 3
   },
   "file_extension": ".py",
   "mimetype": "text/x-python",
   "name": "python",
   "nbconvert_exporter": "python",
   "pygments_lexer": "ipython3",
   "version": "3.8.5"
  }
 },
 "nbformat": 4,
 "nbformat_minor": 4
}
