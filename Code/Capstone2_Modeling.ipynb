{
 "cells": [
  {
   "cell_type": "markdown",
   "metadata": {},
   "source": [
    "### Capstone Project 2: Predicting Churning Credit Card Customer - Modeling"
   ]
  },
  {
   "cell_type": "markdown",
   "metadata": {},
   "source": [
    "### 1. Introduction"
   ]
  },
  {
   "cell_type": "markdown",
   "metadata": {},
   "source": [
    "#### 1.1 The problem:\n",
    "A manager at the bank is disturbed with more and more customers leaving their credit card services. They would really appreciate if one could predict for them who is gonna get churned so they can proactively go to the customer to provide them better services and turn customers' decisions in the opposite direction. \n",
    "He realized that the traditional approach of choosing a credit card for a customer needs to change. He has decided to study all the other features of a user and not just income to help them choose a more suitable card for each user.\n",
    "\n",
    "The task is to build a predictive model, which can identify credit card customers who are getting chruned. In addition, we will also need to determine some of the most influential factors that can lead to a customer's decision of leaving their credit card issuer."
   ]
  },
  {
   "cell_type": "markdown",
   "metadata": {},
   "source": [
    "#### 1.2. The Data\n",
    "\n",
    "The datase is from the Kaggle website. This dataset consists of 10,000 customers mentioning their age, salary, marital_status, credit card limit, credit card category, etc. There are nearly 18 features.\n",
    "\n",
    "- CLIENTNUM: Client number. Unique identifier for the customer holding the account<br />\n",
    "- Attrition_Flag: Internal event (customer activity) variable - if the account is closed then 1(Attrited Customer) else 0(Existing Customer)<br />\n",
    "- Customer_Age: Demographic variable - Customer's Age in Years <br />\n",
    "- Gender: Demographic variable - M=Male, F=Female<br />\n",
    "- Dependent_count: Demographic variable - Number of dependents<br />\n",
    "- Education_Level: Demographic variable - Educational Qualification of the account holder (example: high school, college graduate, etc.)<br />\n",
    "- Marital_Status: Demographic variable - Married, Single, Divorced, Unknown<br />\n",
    "- Income_Category: Demographic variable - Annual Income Category of the account holder ( 40𝐾, 40K - 60K, 60𝐾− 80K, 80𝐾− 120K, 120K, Unknown)<br />\n",
    "- Card_Category: Product Variable - Type of Card (Blue, Silver, Gold, Platinum)<br />\n",
    "- Months_on_book: Period of relationship with bank<br />\n",
    "- Total_Relationship_Count: Total no. of products held by the customer<br />\n",
    "- Months_Inactive_12_mon: No. of months inactive in the last 12 months<br />\n",
    "- Contacts_Count_12_mon: No. of Contacts in the last 12 months <br />\n",
    "- Credit_Limit: Credit Limit on the Credit Card <br />\n",
    "- Total_Revolving_Bal: Total Revolving Balance on the Credit Card <br />\n",
    "- Avg_Open_To_Buy: Open to Buy Credit Line (Average of last 12 months) <br />\n",
    "- Total_Amt_Chng_Q4_Q1: Change in Transaction Amount (Q4 over Q1) <br />\n",
    "- Total_Trans_Amt: Total Transaction Amount (Last 12 months) <br />\n",
    "- Total_Trans_Ct: Total Transaction Count (Last 12 months) <br />\n",
    "- Total_Ct_Chng_Q4_Q1: Change in Transaction Count (Q4 over Q1) <br />\n",
    "- Avg_Utilization_Ratio: Average Card Utilization Ratio <br />\n",
    "\n"
   ]
  },
  {
   "cell_type": "markdown",
   "metadata": {},
   "source": [
    "### 2. Import necessary libraries and the data:"
   ]
  },
  {
   "cell_type": "code",
   "execution_count": 83,
   "metadata": {},
   "outputs": [],
   "source": [
    "# Import necessary libraries\n",
    "\n",
    "import numpy as np\n",
    "import pandas as pd\n",
    "import matplotlib.pyplot as plt\n",
    "import seaborn as sns\n",
    "from sklearn.preprocessing import StandardScaler, MinMaxScaler\n",
    "from sklearn.preprocessing import LabelEncoder\n",
    "from sklearn.model_selection import train_test_split\n",
    "from sklearn.neighbors import KNeighborsClassifier\n",
    "from sklearn.linear_model import LogisticRegression\n",
    "from sklearn.svm import SVC\n",
    "from sklearn.ensemble import RandomForestClassifier\n",
    "from sklearn.ensemble import GradientBoostingClassifier\n",
    "from sklearn.model_selection import cross_val_score, GridSearchCV, RandomizedSearchCV\n",
    "from sklearn.metrics import accuracy_score, recall_score, precision_score, roc_curve, roc_auc_score, confusion_matrix, plot_confusion_matrix, classification_report\n",
    "from imblearn.over_sampling import SMOTE\n",
    "from imblearn.under_sampling import RandomUnderSampler\n",
    "from imblearn.pipeline import Pipeline\n",
    "from sklearn.experimental import enable_halving_search_cv\n",
    "from sklearn.model_selection import HalvingRandomSearchCV\n",
    "\n",
    "import warnings\n",
    "warnings.filterwarnings(\"ignore\")"
   ]
  },
  {
   "cell_type": "code",
   "execution_count": 84,
   "metadata": {
    "scrolled": true
   },
   "outputs": [
    {
     "data": {
      "text/html": [
       "<div>\n",
       "<style scoped>\n",
       "    .dataframe tbody tr th:only-of-type {\n",
       "        vertical-align: middle;\n",
       "    }\n",
       "\n",
       "    .dataframe tbody tr th {\n",
       "        vertical-align: top;\n",
       "    }\n",
       "\n",
       "    .dataframe thead th {\n",
       "        text-align: right;\n",
       "    }\n",
       "</style>\n",
       "<table border=\"1\" class=\"dataframe\">\n",
       "  <thead>\n",
       "    <tr style=\"text-align: right;\">\n",
       "      <th></th>\n",
       "      <th>Attrition_Flag</th>\n",
       "      <th>Customer_Age</th>\n",
       "      <th>Gender</th>\n",
       "      <th>Dependent_count</th>\n",
       "      <th>Education_Level</th>\n",
       "      <th>Marital_Status</th>\n",
       "      <th>Income_Category</th>\n",
       "      <th>Card_Category</th>\n",
       "      <th>Months_on_book</th>\n",
       "      <th>Total_Relationship_Count</th>\n",
       "      <th>Months_Inactive_12_mon</th>\n",
       "      <th>Contacts_Count_12_mon</th>\n",
       "      <th>Credit_Limit</th>\n",
       "      <th>Total_Revolving_Bal</th>\n",
       "      <th>Avg_Open_To_Buy</th>\n",
       "      <th>Total_Amt_Chng_Q4_Q1</th>\n",
       "      <th>Total_Trans_Amt</th>\n",
       "      <th>Total_Trans_Ct</th>\n",
       "      <th>Total_Ct_Chng_Q4_Q1</th>\n",
       "      <th>Avg_Utilization_Ratio</th>\n",
       "    </tr>\n",
       "  </thead>\n",
       "  <tbody>\n",
       "    <tr>\n",
       "      <th>0</th>\n",
       "      <td>Existing Customer</td>\n",
       "      <td>45</td>\n",
       "      <td>M</td>\n",
       "      <td>3</td>\n",
       "      <td>High School</td>\n",
       "      <td>Married</td>\n",
       "      <td>60K - 80K</td>\n",
       "      <td>Blue</td>\n",
       "      <td>39</td>\n",
       "      <td>5</td>\n",
       "      <td>1</td>\n",
       "      <td>3</td>\n",
       "      <td>12691.0</td>\n",
       "      <td>777</td>\n",
       "      <td>11914.0</td>\n",
       "      <td>1.335</td>\n",
       "      <td>1144</td>\n",
       "      <td>42</td>\n",
       "      <td>1.625</td>\n",
       "      <td>0.061</td>\n",
       "    </tr>\n",
       "    <tr>\n",
       "      <th>1</th>\n",
       "      <td>Existing Customer</td>\n",
       "      <td>49</td>\n",
       "      <td>F</td>\n",
       "      <td>5</td>\n",
       "      <td>Graduate</td>\n",
       "      <td>Single</td>\n",
       "      <td>Less than 40K</td>\n",
       "      <td>Blue</td>\n",
       "      <td>44</td>\n",
       "      <td>6</td>\n",
       "      <td>1</td>\n",
       "      <td>2</td>\n",
       "      <td>8256.0</td>\n",
       "      <td>864</td>\n",
       "      <td>7392.0</td>\n",
       "      <td>1.541</td>\n",
       "      <td>1291</td>\n",
       "      <td>33</td>\n",
       "      <td>3.714</td>\n",
       "      <td>0.105</td>\n",
       "    </tr>\n",
       "    <tr>\n",
       "      <th>2</th>\n",
       "      <td>Existing Customer</td>\n",
       "      <td>51</td>\n",
       "      <td>M</td>\n",
       "      <td>3</td>\n",
       "      <td>Graduate</td>\n",
       "      <td>Married</td>\n",
       "      <td>80K - 120K</td>\n",
       "      <td>Blue</td>\n",
       "      <td>36</td>\n",
       "      <td>4</td>\n",
       "      <td>1</td>\n",
       "      <td>0</td>\n",
       "      <td>3418.0</td>\n",
       "      <td>0</td>\n",
       "      <td>3418.0</td>\n",
       "      <td>2.594</td>\n",
       "      <td>1887</td>\n",
       "      <td>20</td>\n",
       "      <td>2.333</td>\n",
       "      <td>0.000</td>\n",
       "    </tr>\n",
       "    <tr>\n",
       "      <th>3</th>\n",
       "      <td>Existing Customer</td>\n",
       "      <td>40</td>\n",
       "      <td>F</td>\n",
       "      <td>4</td>\n",
       "      <td>High School</td>\n",
       "      <td>NaN</td>\n",
       "      <td>Less than 40K</td>\n",
       "      <td>Blue</td>\n",
       "      <td>34</td>\n",
       "      <td>3</td>\n",
       "      <td>4</td>\n",
       "      <td>1</td>\n",
       "      <td>3313.0</td>\n",
       "      <td>2517</td>\n",
       "      <td>796.0</td>\n",
       "      <td>1.405</td>\n",
       "      <td>1171</td>\n",
       "      <td>20</td>\n",
       "      <td>2.333</td>\n",
       "      <td>0.760</td>\n",
       "    </tr>\n",
       "    <tr>\n",
       "      <th>4</th>\n",
       "      <td>Existing Customer</td>\n",
       "      <td>40</td>\n",
       "      <td>M</td>\n",
       "      <td>3</td>\n",
       "      <td>Uneducated</td>\n",
       "      <td>Married</td>\n",
       "      <td>60K - 80K</td>\n",
       "      <td>Blue</td>\n",
       "      <td>21</td>\n",
       "      <td>5</td>\n",
       "      <td>1</td>\n",
       "      <td>0</td>\n",
       "      <td>4716.0</td>\n",
       "      <td>0</td>\n",
       "      <td>4716.0</td>\n",
       "      <td>2.175</td>\n",
       "      <td>816</td>\n",
       "      <td>28</td>\n",
       "      <td>2.500</td>\n",
       "      <td>0.000</td>\n",
       "    </tr>\n",
       "  </tbody>\n",
       "</table>\n",
       "</div>"
      ],
      "text/plain": [
       "      Attrition_Flag  Customer_Age Gender  Dependent_count Education_Level  \\\n",
       "0  Existing Customer            45      M                3     High School   \n",
       "1  Existing Customer            49      F                5        Graduate   \n",
       "2  Existing Customer            51      M                3        Graduate   \n",
       "3  Existing Customer            40      F                4     High School   \n",
       "4  Existing Customer            40      M                3      Uneducated   \n",
       "\n",
       "  Marital_Status Income_Category Card_Category  Months_on_book  \\\n",
       "0        Married       60K - 80K          Blue              39   \n",
       "1         Single   Less than 40K          Blue              44   \n",
       "2        Married      80K - 120K          Blue              36   \n",
       "3            NaN   Less than 40K          Blue              34   \n",
       "4        Married       60K - 80K          Blue              21   \n",
       "\n",
       "   Total_Relationship_Count  Months_Inactive_12_mon  Contacts_Count_12_mon  \\\n",
       "0                         5                       1                      3   \n",
       "1                         6                       1                      2   \n",
       "2                         4                       1                      0   \n",
       "3                         3                       4                      1   \n",
       "4                         5                       1                      0   \n",
       "\n",
       "   Credit_Limit  Total_Revolving_Bal  Avg_Open_To_Buy  Total_Amt_Chng_Q4_Q1  \\\n",
       "0       12691.0                  777          11914.0                 1.335   \n",
       "1        8256.0                  864           7392.0                 1.541   \n",
       "2        3418.0                    0           3418.0                 2.594   \n",
       "3        3313.0                 2517            796.0                 1.405   \n",
       "4        4716.0                    0           4716.0                 2.175   \n",
       "\n",
       "   Total_Trans_Amt  Total_Trans_Ct  Total_Ct_Chng_Q4_Q1  Avg_Utilization_Ratio  \n",
       "0             1144              42                1.625                  0.061  \n",
       "1             1291              33                3.714                  0.105  \n",
       "2             1887              20                2.333                  0.000  \n",
       "3             1171              20                2.333                  0.760  \n",
       "4              816              28                2.500                  0.000  "
      ]
     },
     "execution_count": 84,
     "metadata": {},
     "output_type": "execute_result"
    }
   ],
   "source": [
    "# Load the dataset\n",
    "\n",
    "df = pd.read_csv('C:/Users/vumac/Desktop/Springboard_Capstone2/Dataset/BankChurners_cleaned.csv', index_col=0)\n",
    "df.head()"
   ]
  },
  {
   "cell_type": "markdown",
   "metadata": {},
   "source": [
    "### 3. Pre-processing for training"
   ]
  },
  {
   "cell_type": "code",
   "execution_count": 85,
   "metadata": {},
   "outputs": [],
   "source": [
    "# Per previous EDA notebook, Education_Level, Marital_Status and Income_Category have no relationship with the target feature\n",
    "# Fill missing value with 'Other'\n",
    "df.fillna('Other', inplace=True)"
   ]
  },
  {
   "cell_type": "code",
   "execution_count": 86,
   "metadata": {},
   "outputs": [],
   "source": [
    "# Select numeric features\n",
    "\n",
    "numeric_col = df.select_dtypes('number').columns"
   ]
  },
  {
   "cell_type": "code",
   "execution_count": 87,
   "metadata": {},
   "outputs": [],
   "source": [
    "# Convert Atttrition Flag to 0 for Existing Customer and 1 for Attrited Customer\n",
    "df['Attrition_Flag'] = df.Attrition_Flag.map({'Existing Customer':0, 'Attrited Customer':1})"
   ]
  },
  {
   "cell_type": "code",
   "execution_count": 88,
   "metadata": {},
   "outputs": [],
   "source": [
    "# Label Encoding for categorical features\n",
    "enc = LabelEncoder()\n",
    "df.Gender = enc.fit_transform(df['Gender'])\n",
    "df.Education_Level = enc.fit_transform(df['Education_Level'])\n",
    "df.Marital_Status = enc.fit_transform(df['Marital_Status'])\n",
    "df.Income_Category = enc.fit_transform(df['Income_Category'])\n",
    "df.Card_Category = enc.fit_transform(df['Card_Category'])"
   ]
  },
  {
   "cell_type": "code",
   "execution_count": 89,
   "metadata": {},
   "outputs": [],
   "source": [
    "# Create X and y dataset for independent variables and dependent variable\n",
    "X = df.drop('Attrition_Flag', axis=1)\n",
    "y = df['Attrition_Flag']"
   ]
  },
  {
   "cell_type": "code",
   "execution_count": 90,
   "metadata": {},
   "outputs": [],
   "source": [
    "# Create training and testing set\n",
    "# The dataset is imbalanced, so we will set 'stratify' to make train and test set have the same proportion of churn and no churn customers \n",
    "X_train, X_test, y_train, y_test = train_test_split(X, y, test_size=0.3, random_state=19, stratify=y)"
   ]
  },
  {
   "cell_type": "code",
   "execution_count": 91,
   "metadata": {},
   "outputs": [
    {
     "data": {
      "text/plain": [
       "1    1784\n",
       "0    1784\n",
       "Name: Attrition_Flag, dtype: int64"
      ]
     },
     "execution_count": 91,
     "metadata": {},
     "output_type": "execute_result"
    }
   ],
   "source": [
    "# Address imbalance problem\n",
    "# In this dataset, SMOTE performs better when combined with undersampling of the majority class, such as random undersampling.\n",
    "# We oversample the examples in the minority class, then undersample the examples in the majority class in the training dataset\n",
    "# This can balance the class distribution but does not provide any additional information to the model.\n",
    "\n",
    "over = SMOTE(sampling_strategy=0.3, random_state=19)\n",
    "X_train, y_train = over.fit_resample(X_train, y_train) \n",
    "\n",
    "under = RandomUnderSampler(sampling_strategy=1, random_state=19)\n",
    "X_train, y_train = under.fit_resample(X_train, y_train) \n",
    "\n",
    "y_train.value_counts()"
   ]
  },
  {
   "cell_type": "code",
   "execution_count": 92,
   "metadata": {},
   "outputs": [],
   "source": [
    "# Apply StandardScaler to X_train, X_test\n",
    "\n",
    "# Fit StandardScaler to training set\n",
    "scaler = StandardScaler()\n",
    "scaler.fit(X_train[numeric_col].values)\n",
    "\n",
    "# Create copies of training and testing set\n",
    "X_train_scaled = X_train.copy()\n",
    "X_test_scaled = X_test.copy()\n",
    "\n",
    "# Transform and assign scaled values to train and test set\n",
    "X_train_scaled[numeric_col] = scaler.transform(X_train[numeric_col].values)\n",
    "X_test_scaled[numeric_col] = scaler.transform(X_test[numeric_col].values)"
   ]
  },
  {
   "cell_type": "markdown",
   "metadata": {},
   "source": [
    "### 4. Apply Machine Learning Models:\n",
    "\n",
    "We will apply the following classification models:\n",
    "- K-Nearest Neighbor (KNN)\n",
    "- Logistic Regression\n",
    "- Support vector machine (SVM)\n",
    "- Random Forest\n",
    "- Gradient Boost\n",
    "\n",
    "We will use the cross validation technique to evaluate the performance of each model. In addition, each model will be assessed by a number of evaluation metrics for performance review. \n",
    "\n",
    "Evaluation metrics:\n",
    "- Accuracy\n",
    "- Precision\n",
    "- Recall\n",
    "- Confusion Matrix\n",
    "\n",
    "Our top priority in this business problem is to identify customers who are getting churned. Even if we predict non-churning customers as churned, it won't harm the business. But predicting churning customers as Non-churning will do. So we will put more emphasis in the recall metric."
   ]
  },
  {
   "cell_type": "markdown",
   "metadata": {},
   "source": [
    "#### 4.1 K-Nearest Neighbor (KNN)"
   ]
  },
  {
   "cell_type": "code",
   "execution_count": 14,
   "metadata": {},
   "outputs": [
    {
     "name": "stdout",
     "output_type": "stream",
     "text": [
      "Accuracy: 0.836788417242514\n"
     ]
    },
    {
     "data": {
      "image/png": "[encoded data removed]",
      "text/plain": [
       "<Figure size 432x288 with 2 Axes>"
      ]
     },
     "metadata": {
      "needs_background": "light"
     },
     "output_type": "display_data"
    }
   ],
   "source": [
    "# KNN model with default parameter (n_neighbors=5)\n",
    "\n",
    "knn_clf = KNeighborsClassifier(n_neighbors=5)\n",
    "knn_clf.fit(X_train_scaled, y_train)\n",
    "y_pred = knn_clf.predict(X_test_scaled)\n",
    "\n",
    "print('Accuracy:', knn_clf.score(X_test_scaled, y_test))\n",
    "plot_confusion_matrix(knn_clf, X_test_scaled, y_test, cmap='Blues');"
   ]
  },
  {
   "cell_type": "code",
   "execution_count": 15,
   "metadata": {},
   "outputs": [
    {
     "name": "stdout",
     "output_type": "stream",
     "text": [
      "              precision    recall  f1-score   support\n",
      "\n",
      "           0       0.97      0.84      0.90      2551\n",
      "           1       0.50      0.84      0.62       488\n",
      "\n",
      "    accuracy                           0.84      3039\n",
      "   macro avg       0.73      0.84      0.76      3039\n",
      "weighted avg       0.89      0.84      0.85      3039\n",
      "\n"
     ]
    }
   ],
   "source": [
    "# Classification report\n",
    "\n",
    "print(classification_report(y_test, y_pred))"
   ]
  },
  {
   "cell_type": "code",
   "execution_count": 17,
   "metadata": {},
   "outputs": [
    {
     "name": "stdout",
     "output_type": "stream",
     "text": [
      "cv_scores: [0.83193277 0.82913165 0.85154062 0.87237027 0.89481066]\n",
      "cv_mean: 0.8559571935366013\n",
      "cv_std: 0.024880793120557475\n"
     ]
    }
   ],
   "source": [
    "# Cross validation scores\n",
    "\n",
    "cv_scores = cross_val_score(knn_clf, X_train_scaled, y_train, cv=5, scoring='accuracy')\n",
    "print('cv_scores: {}'.format(cv_scores))\n",
    "print('cv_mean:', cv_scores.mean())\n",
    "print('cv_std:', cv_scores.std())"
   ]
  },
  {
   "cell_type": "markdown",
   "metadata": {},
   "source": [
    "K-Nearest Neighbor model has a good accuracy score without any tuning yet. In addition, KNN has a good recall score of 86% on predicting churn customers, which is an important metric for this project. \n",
    "However, the precision score for churn customers is only 47%. The model may predict a lot more churn customers than actual."
   ]
  },
  {
   "cell_type": "code",
   "execution_count": 23,
   "metadata": {},
   "outputs": [
    {
     "name": "stdout",
     "output_type": "stream",
     "text": [
      "Best parameter: {'n_neighbors': 13}\n",
      "Accuracy: 0.8651981409674668\n",
      "Classification report\n",
      "              precision    recall  f1-score   support\n",
      "\n",
      "           0       0.97      0.83      0.90      2551\n",
      "           1       0.49      0.85      0.62       488\n",
      "\n",
      "    accuracy                           0.84      3039\n",
      "   macro avg       0.73      0.84      0.76      3039\n",
      "weighted avg       0.89      0.84      0.85      3039\n",
      "\n"
     ]
    }
   ],
   "source": [
    "#Hyperparameter tunning\n",
    "\n",
    "neighbors = np.linspace(1, 200, 200, dtype='int')\n",
    "param_grid = {'n_neighbors':neighbors}\n",
    "\n",
    "knn_gs = GridSearchCV(knn_clf, param_grid, cv=5, n_jobs=-1)\n",
    "knn_gs.fit(X_train_scaled, y_train)\n",
    "y_pred = knn_gs.best_estimator_.predict(X_test_scaled)\n",
    "              \n",
    "print('Best parameter:', knn_gs.best_params_) \n",
    "print('Accuracy:', knn_gs.best_score_)\n",
    "print('Classification report')\n",
    "print(classification_report(y_test, y_pred))"
   ]
  },
  {
   "cell_type": "markdown",
   "metadata": {},
   "source": [
    "After tuning, the best KNN model have an accuracy of 86.5%. However, recall score was not imporved much."
   ]
  },
  {
   "cell_type": "markdown",
   "metadata": {},
   "source": [
    "#### 4.2 Logistic Regression"
   ]
  },
  {
   "cell_type": "code",
   "execution_count": 24,
   "metadata": {},
   "outputs": [
    {
     "name": "stdout",
     "output_type": "stream",
     "text": [
      "Accuracy: 0.8420533070088845\n"
     ]
    },
    {
     "data": {
      "image/png": "[encoded data removed]",
      "text/plain": [
       "<Figure size 432x288 with 2 Axes>"
      ]
     },
     "metadata": {
      "needs_background": "light"
     },
     "output_type": "display_data"
    }
   ],
   "source": [
    "# Logistic regression model with default parameter\n",
    "\n",
    "lg_clf= LogisticRegression(random_state=19)\n",
    "lg_clf.fit(X_train_scaled, y_train)\n",
    "y_pred = lg_clf.predict(X_test_scaled)\n",
    "\n",
    "print('Accuracy:', lg_clf.score(X_test_scaled, y_test))\n",
    "plot_confusion_matrix(lg_clf, X_test_scaled, y_test, cmap='Blues');"
   ]
  },
  {
   "cell_type": "code",
   "execution_count": 25,
   "metadata": {},
   "outputs": [
    {
     "name": "stdout",
     "output_type": "stream",
     "text": [
      "              precision    recall  f1-score   support\n",
      "\n",
      "           0       0.96      0.84      0.90      2551\n",
      "           1       0.50      0.84      0.63       488\n",
      "\n",
      "    accuracy                           0.84      3039\n",
      "   macro avg       0.73      0.84      0.76      3039\n",
      "weighted avg       0.89      0.84      0.86      3039\n",
      "\n"
     ]
    }
   ],
   "source": [
    "# Classification report\n",
    "\n",
    "print(classification_report(y_test, y_pred))"
   ]
  },
  {
   "cell_type": "code",
   "execution_count": 31,
   "metadata": {},
   "outputs": [
    {
     "name": "stdout",
     "output_type": "stream",
     "text": [
      "cv_scores: [0.83753501 0.83333333 0.84033613 0.82468443 0.86956522]\n",
      "cv_mean: 0.8410908262323161\n",
      "cv_std: 0.015187842379137183\n"
     ]
    }
   ],
   "source": [
    "# Cross validation scores\n",
    "\n",
    "cv_scores = cross_val_score(lg_clf, X_train_scaled, y_train, cv=5, scoring='accuracy')\n",
    "print('cv_scores: {}'.format(cv_scores))\n",
    "print('cv_mean:', cv_scores.mean())\n",
    "print('cv_std:', cv_scores.std())"
   ]
  },
  {
   "cell_type": "markdown",
   "metadata": {},
   "source": [
    "Logistic regression classifier has a slightly better performance than KNN. Howiever, Logistic regression model has lower recall score on predicting churn customers."
   ]
  },
  {
   "cell_type": "code",
   "execution_count": 49,
   "metadata": {},
   "outputs": [
    {
     "name": "stdout",
     "output_type": "stream",
     "text": [
      "Best parameter: {'C': 0.1}\n",
      "Accuracy: 0.8422100958195339\n",
      "Classification report\n",
      "              precision    recall  f1-score   support\n",
      "\n",
      "           0       0.96      0.84      0.90      2551\n",
      "           1       0.50      0.83      0.63       488\n",
      "\n",
      "    accuracy                           0.84      3039\n",
      "   macro avg       0.73      0.84      0.76      3039\n",
      "weighted avg       0.89      0.84      0.86      3039\n",
      "\n"
     ]
    }
   ],
   "source": [
    "#Hyperparameter tunning\n",
    "\n",
    "param_grid = {'C':[0.001,0.01,0.1,1,10,100]}\n",
    "\n",
    "lg_gs = GridSearchCV(lg_clf, param_grid, cv=5, n_jobs=-1)\n",
    "lg_gs.fit(X_train_scaled, y_train)\n",
    "y_pred = lg_gs.best_estimator_.predict(X_test_scaled)\n",
    "              \n",
    "print('Best parameter:', lg_gs.best_params_) \n",
    "print('Accuracy:', lg_gs.best_score_)\n",
    "print('Classification report')\n",
    "print(classification_report(y_test, y_pred))"
   ]
  },
  {
   "cell_type": "markdown",
   "metadata": {},
   "source": [
    "Logistic Regression model did not improve after tuning."
   ]
  },
  {
   "cell_type": "markdown",
   "metadata": {},
   "source": [
    "#### 4.3 Support Vector Machine (SVM)"
   ]
  },
  {
   "cell_type": "code",
   "execution_count": 45,
   "metadata": {},
   "outputs": [
    {
     "name": "stdout",
     "output_type": "stream",
     "text": [
      "Accuracy: 0.8884501480750246\n"
     ]
    },
    {
     "data": {
      "image/png": "[encoded data removed]",
      "text/plain": [
       "<Figure size 432x288 with 2 Axes>"
      ]
     },
     "metadata": {
      "needs_background": "light"
     },
     "output_type": "display_data"
    }
   ],
   "source": [
    "# SVM model with default parameter\n",
    "\n",
    "svm_clf = SVC(probability=True, random_state=19)\n",
    "svm_clf.fit(X_train_scaled, y_train)\n",
    "y_pred = svm_clf.predict(X_test_scaled)\n",
    "\n",
    "print('Accuracy:', svm_clf.score(X_test_scaled, y_test))\n",
    "plot_confusion_matrix(svm_clf, X_test_scaled, y_test, cmap='Blues');"
   ]
  },
  {
   "cell_type": "code",
   "execution_count": 46,
   "metadata": {},
   "outputs": [
    {
     "name": "stdout",
     "output_type": "stream",
     "text": [
      "              precision    recall  f1-score   support\n",
      "\n",
      "           0       0.97      0.89      0.93      2551\n",
      "           1       0.61      0.86      0.71       488\n",
      "\n",
      "    accuracy                           0.89      3039\n",
      "   macro avg       0.79      0.88      0.82      3039\n",
      "weighted avg       0.91      0.89      0.90      3039\n",
      "\n"
     ]
    }
   ],
   "source": [
    "# Classification report\n",
    "\n",
    "print(classification_report(y_test, y_pred))"
   ]
  },
  {
   "cell_type": "code",
   "execution_count": 47,
   "metadata": {},
   "outputs": [
    {
     "name": "stdout",
     "output_type": "stream",
     "text": [
      "cv_scores: [0.88655462 0.88935574 0.88795518 0.91023843 0.92426367]\n",
      "cv_mean: 0.8996735300010608\n",
      "cv_std: 0.015047753845588235\n"
     ]
    }
   ],
   "source": [
    "# Cross validation scores\n",
    "\n",
    "cv_scores = cross_val_score(svm_clf, X_train_scaled, y_train, cv=5, scoring='accuracy')\n",
    "print('cv_scores: {}'.format(cv_scores))\n",
    "print('cv_mean:', cv_scores.mean())\n",
    "print('cv_std:', cv_scores.std())"
   ]
  },
  {
   "cell_type": "markdown",
   "metadata": {},
   "source": [
    "SVM classifier has a good accuracy scores overall. In addition, it also has a 86% recall score on predicting churn customers. However, the model still failed to classify 68 churn customers."
   ]
  },
  {
   "cell_type": "code",
   "execution_count": 50,
   "metadata": {},
   "outputs": [
    {
     "name": "stdout",
     "output_type": "stream",
     "text": [
      "Best parameter: {'C': 1, 'gamma': 0.1, 'kernel': 'rbf'}\n",
      "Accuracy: 0.9094872731701376\n",
      "Classification report\n",
      "              precision    recall  f1-score   support\n",
      "\n",
      "           0       0.97      0.90      0.94      2551\n",
      "           1       0.63      0.85      0.72       488\n",
      "\n",
      "    accuracy                           0.89      3039\n",
      "   macro avg       0.80      0.88      0.83      3039\n",
      "weighted avg       0.91      0.89      0.90      3039\n",
      "\n"
     ]
    }
   ],
   "source": [
    "#Hyperparameter tunning\n",
    "\n",
    "param_grid = {'C':[0.1, 1, 10, 100], 'gamma':[1, 0.1, 0.01, 0.001], 'kernel':['rbf', 'poly', 'sigmoid']}\n",
    "\n",
    "svm_gs = GridSearchCV(svm_clf, param_grid, cv=5, n_jobs=-1)\n",
    "svm_gs.fit(X_train_scaled, y_train)\n",
    "y_pred = svm_gs.best_estimator_.predict(X_test_scaled)\n",
    "              \n",
    "print('Best parameter:', svm_gs.best_params_) \n",
    "print('Accuracy:', svm_gs.best_score_)\n",
    "print('Classification report')\n",
    "print(classification_report(y_test, y_pred))"
   ]
  },
  {
   "cell_type": "markdown",
   "metadata": {},
   "source": [
    "SVM model did not improve after tuning."
   ]
  },
  {
   "cell_type": "markdown",
   "metadata": {},
   "source": [
    "#### 4.4 Random Forest"
   ]
  },
  {
   "cell_type": "code",
   "execution_count": 57,
   "metadata": {},
   "outputs": [
    {
     "name": "stdout",
     "output_type": "stream",
     "text": [
      "Accuracy: 0.9542612701546561\n"
     ]
    },
    {
     "data": {
      "image/png": "[encoded data removed]",
      "text/plain": [
       "<Figure size 432x288 with 2 Axes>"
      ]
     },
     "metadata": {
      "needs_background": "light"
     },
     "output_type": "display_data"
    }
   ],
   "source": [
    "# Random Forest model with default parameter\n",
    "\n",
    "rf_clf = RandomForestClassifier(random_state=19)\n",
    "rf_clf.fit(X_train_scaled, y_train)\n",
    "y_pred = rf_clf.predict(X_test_scaled)\n",
    "\n",
    "print('Accuracy:', rf_clf.score(X_test_scaled, y_test))\n",
    "plot_confusion_matrix(rf_clf, X_test_scaled, y_test, cmap='Blues');"
   ]
  },
  {
   "cell_type": "code",
   "execution_count": 58,
   "metadata": {},
   "outputs": [
    {
     "name": "stdout",
     "output_type": "stream",
     "text": [
      "              precision    recall  f1-score   support\n",
      "\n",
      "           0       0.99      0.95      0.97      2551\n",
      "           1       0.80      0.96      0.87       488\n",
      "\n",
      "    accuracy                           0.95      3039\n",
      "   macro avg       0.89      0.96      0.92      3039\n",
      "weighted avg       0.96      0.95      0.96      3039\n",
      "\n"
     ]
    }
   ],
   "source": [
    "# Classification report\n",
    "\n",
    "print(classification_report(y_test, y_pred))"
   ]
  },
  {
   "cell_type": "code",
   "execution_count": 59,
   "metadata": {},
   "outputs": [
    {
     "name": "stdout",
     "output_type": "stream",
     "text": [
      "cv_scores: [0.94537815 0.93557423 0.95658263 0.95932679 0.96914446]\n",
      "cv_mean: 0.9532012524504893\n",
      "cv_std: 0.01161942024932315\n"
     ]
    }
   ],
   "source": [
    "# Cross validation scores\n",
    "\n",
    "cv_scores = cross_val_score(rf_clf, X_train_scaled, y_train, cv=5, scoring='accuracy')\n",
    "print('cv_scores: {}'.format(cv_scores))\n",
    "print('cv_mean:', cv_scores.mean())\n",
    "print('cv_std:', cv_scores.std())"
   ]
  },
  {
   "cell_type": "markdown",
   "metadata": {},
   "source": [
    "So far, Random Forest is the best model. Overall accuracy score is 95%. Most importantly, the model resulted in a 96% recall score on predicting churn customer. It is very close to identify all churn customers."
   ]
  },
  {
   "cell_type": "markdown",
   "metadata": {},
   "source": [
    "#### 4.4 Gradient Boosting"
   ]
  },
  {
   "cell_type": "code",
   "execution_count": 60,
   "metadata": {},
   "outputs": [
    {
     "name": "stdout",
     "output_type": "stream",
     "text": [
      "Accuracy: 0.9522869364922671\n"
     ]
    },
    {
     "data": {
      "image/png": "[encoded data removed]",
      "text/plain": [
       "<Figure size 432x288 with 2 Axes>"
      ]
     },
     "metadata": {
      "needs_background": "light"
     },
     "output_type": "display_data"
    }
   ],
   "source": [
    "# Random Forest model with default parameter\n",
    "\n",
    "gb_clf = GradientBoostingClassifier(random_state=19)\n",
    "gb_clf.fit(X_train_scaled, y_train)\n",
    "y_pred = gb_clf.predict(X_test_scaled)\n",
    "\n",
    "print('Accuracy:', gb_clf.score(X_test_scaled, y_test))\n",
    "plot_confusion_matrix(gb_clf, X_test_scaled, y_test, cmap='Blues');"
   ]
  },
  {
   "cell_type": "code",
   "execution_count": 61,
   "metadata": {},
   "outputs": [
    {
     "name": "stdout",
     "output_type": "stream",
     "text": [
      "              precision    recall  f1-score   support\n",
      "\n",
      "           0       0.99      0.95      0.97      2551\n",
      "           1       0.79      0.96      0.87       488\n",
      "\n",
      "    accuracy                           0.95      3039\n",
      "   macro avg       0.89      0.96      0.92      3039\n",
      "weighted avg       0.96      0.95      0.95      3039\n",
      "\n"
     ]
    }
   ],
   "source": [
    "# Classification report\n",
    "\n",
    "print(classification_report(y_test, y_pred))"
   ]
  },
  {
   "cell_type": "code",
   "execution_count": 63,
   "metadata": {},
   "outputs": [
    {
     "name": "stdout",
     "output_type": "stream",
     "text": [
      "cv_scores: [0.95098039 0.95378151 0.93557423 0.95091164 0.96633941]\n",
      "cv_mean: 0.9515174372694378\n",
      "cv_std: 0.009794470022387793\n"
     ]
    }
   ],
   "source": [
    "# Cross validation scores\n",
    "\n",
    "cv_scores = cross_val_score(gb_clf, X_train_scaled, y_train, cv=5, scoring='accuracy')\n",
    "print('cv_scores: {}'.format(cv_scores))\n",
    "print('cv_mean:', cv_scores.mean())\n",
    "print('cv_std:', cv_scores.std())"
   ]
  },
  {
   "cell_type": "markdown",
   "metadata": {},
   "source": [
    "Gradient Boosting performance was comparable with Random Forest model. Both performed very well in predicting churn customers. "
   ]
  },
  {
   "cell_type": "markdown",
   "metadata": {},
   "source": [
    "### 5. Comparison of the models"
   ]
  },
  {
   "cell_type": "code",
   "execution_count": 64,
   "metadata": {},
   "outputs": [
    {
     "data": {
      "text/html": [
       "<div>\n",
       "<style scoped>\n",
       "    .dataframe tbody tr th:only-of-type {\n",
       "        vertical-align: middle;\n",
       "    }\n",
       "\n",
       "    .dataframe tbody tr th {\n",
       "        vertical-align: top;\n",
       "    }\n",
       "\n",
       "    .dataframe thead th {\n",
       "        text-align: right;\n",
       "    }\n",
       "</style>\n",
       "<table border=\"1\" class=\"dataframe\">\n",
       "  <thead>\n",
       "    <tr style=\"text-align: right;\">\n",
       "      <th></th>\n",
       "      <th>Model</th>\n",
       "      <th>Accuracy</th>\n",
       "      <th>Precision</th>\n",
       "      <th>Recall</th>\n",
       "      <th>ROC_AUC</th>\n",
       "    </tr>\n",
       "  </thead>\n",
       "  <tbody>\n",
       "    <tr>\n",
       "      <th>0</th>\n",
       "      <td>KNN</td>\n",
       "      <td>0.84</td>\n",
       "      <td>0.50</td>\n",
       "      <td>0.84</td>\n",
       "      <td>0.91</td>\n",
       "    </tr>\n",
       "    <tr>\n",
       "      <th>1</th>\n",
       "      <td>LogisticRegression</td>\n",
       "      <td>0.84</td>\n",
       "      <td>0.50</td>\n",
       "      <td>0.84</td>\n",
       "      <td>0.92</td>\n",
       "    </tr>\n",
       "    <tr>\n",
       "      <th>2</th>\n",
       "      <td>SVM</td>\n",
       "      <td>0.89</td>\n",
       "      <td>0.61</td>\n",
       "      <td>0.86</td>\n",
       "      <td>0.95</td>\n",
       "    </tr>\n",
       "    <tr>\n",
       "      <th>3</th>\n",
       "      <td>RandomForestClassifier</td>\n",
       "      <td>0.95</td>\n",
       "      <td>0.80</td>\n",
       "      <td>0.96</td>\n",
       "      <td>0.99</td>\n",
       "    </tr>\n",
       "    <tr>\n",
       "      <th>4</th>\n",
       "      <td>GradientBoostingClassifier</td>\n",
       "      <td>0.95</td>\n",
       "      <td>0.79</td>\n",
       "      <td>0.96</td>\n",
       "      <td>0.99</td>\n",
       "    </tr>\n",
       "  </tbody>\n",
       "</table>\n",
       "</div>"
      ],
      "text/plain": [
       "                        Model  Accuracy  Precision  Recall  ROC_AUC\n",
       "0                         KNN      0.84       0.50    0.84     0.91\n",
       "1          LogisticRegression      0.84       0.50    0.84     0.92\n",
       "2                         SVM      0.89       0.61    0.86     0.95\n",
       "3      RandomForestClassifier      0.95       0.80    0.96     0.99\n",
       "4  GradientBoostingClassifier      0.95       0.79    0.96     0.99"
      ]
     },
     "execution_count": 64,
     "metadata": {},
     "output_type": "execute_result"
    }
   ],
   "source": [
    "# Compare models on accuracy, recall and roc_auc scores\n",
    "\n",
    "models = [knn_clf, lg_clf, svm_clf, rf_clf, gb_clf]\n",
    "model_names =['KNN', 'LogisticRegression', 'SVM', 'RandomForestClassifier', 'GradientBoostingClassifier']\n",
    "\n",
    "accuracy = []\n",
    "precision = []\n",
    "recall = []\n",
    "roc_auc = []\n",
    "\n",
    "for model in models:\n",
    "    accuracy.append(round(accuracy_score(y_test, model.predict(X_test_scaled)), 2))\n",
    "    precision.append(round(precision_score(y_test, model.predict(X_test_scaled)), 2))    \n",
    "    recall.append(round(recall_score(y_test, model.predict(X_test_scaled)), 2))\n",
    "    roc_auc.append(round(roc_auc_score(y_test, model.predict_proba(X_test_scaled)[:, 1]), 2))\n",
    "    \n",
    "pd.DataFrame({'Model':model_names, 'Accuracy':accuracy, 'Precision':precision, 'Recall':recall, 'ROC_AUC':roc_auc})"
   ]
  },
  {
   "cell_type": "markdown",
   "metadata": {},
   "source": [
    "We see in both the above matrix that Random Forest and Gradient Boosting are the two best performance models. Both of the models have very high accuracy score and a good recall score. \n",
    "\n",
    "On the other hand, both models only have a precison score of 80. The models may predict more churn customers than actual. However, the important metric for this project is recall, which helps the business to identify all potential churn customers. Predicting incorrectly some churn customers will not harm the business. "
   ]
  },
  {
   "cell_type": "markdown",
   "metadata": {},
   "source": [
    "### 6. Tuning Hyperparameters"
   ]
  },
  {
   "cell_type": "markdown",
   "metadata": {},
   "source": [
    "#### 6.1 Parameter Tuning for Random Forest\n"
   ]
  },
  {
   "cell_type": "code",
   "execution_count": 65,
   "metadata": {},
   "outputs": [
    {
     "name": "stdout",
     "output_type": "stream",
     "text": [
      "{'n_estimators': 1000, 'max_depth': 50}\n",
      "0.954602598402615\n"
     ]
    }
   ],
   "source": [
    "# Initiate Random Forest Classifier\n",
    "rf = RandomForestClassifier(max_features='auto', n_jobs=-1, random_state=19)\n",
    "\n",
    "# Number of trees in random forest\n",
    "n_estimators = [int(i) for i in np.linspace(100, 1000, 5)]\n",
    "\n",
    "# Maximum depth of each tree\n",
    "max_depth = [int(i) for i in np.linspace(10, 100, 10)]\n",
    "\n",
    "# Create the param grid\n",
    "param_grid = {'n_estimators': n_estimators, 'max_depth': max_depth}\n",
    "\n",
    "# Apply GridSearchCV\n",
    "rf_grid = RandomizedSearchCV(rf, param_grid, cv=5, n_jobs=-1, random_state=19)\n",
    "rf_grid.fit(X_train_scaled, y_train)\n",
    "              \n",
    "print(rf_grid.best_params_) \n",
    "print(rf_grid.best_score_)"
   ]
  },
  {
   "cell_type": "code",
   "execution_count": 66,
   "metadata": {},
   "outputs": [
    {
     "name": "stdout",
     "output_type": "stream",
     "text": [
      "              precision    recall  f1-score   support\n",
      "\n",
      "           0       0.99      0.95      0.97      2551\n",
      "           1       0.80      0.96      0.87       488\n",
      "\n",
      "    accuracy                           0.95      3039\n",
      "   macro avg       0.90      0.96      0.92      3039\n",
      "weighted avg       0.96      0.95      0.96      3039\n",
      "\n",
      "\n",
      " Confusion Matrix\n"
     ]
    },
    {
     "data": {
      "image/png": "[encoded data removed]",
      "text/plain": [
       "<Figure size 432x288 with 2 Axes>"
      ]
     },
     "metadata": {
      "needs_background": "light"
     },
     "output_type": "display_data"
    }
   ],
   "source": [
    "# Classification report and confusion matrix\n",
    "\n",
    "print(classification_report(y_test, rf_grid.best_estimator_.predict(X_test_scaled)))\n",
    "print('\\n Confusion Matrix')\n",
    "plot_confusion_matrix(rf_grid, X_test_scaled, y_test, cmap='Blues')\n",
    "plt.title('Confusion matrix - Random Forest Classifier');"
   ]
  },
  {
   "cell_type": "code",
   "execution_count": 68,
   "metadata": {},
   "outputs": [
    {
     "name": "stdout",
     "output_type": "stream",
     "text": [
      "cv_scores: [0.94257703 0.93837535 0.96078431 0.95932679 0.97194951]\n",
      "cv_mean: 0.954602598402615\n",
      "cv_std: 0.012404714806137838\n"
     ]
    }
   ],
   "source": [
    "# Cross validation scores\n",
    "\n",
    "cv_scores = cross_val_score(rf_grid.best_estimator_, X_train_scaled, y_train, cv=5, scoring='accuracy')\n",
    "print('cv_scores: {}'.format(cv_scores))\n",
    "print('cv_mean:', cv_scores.mean())\n",
    "print('cv_std:', cv_scores.std())"
   ]
  },
  {
   "cell_type": "markdown",
   "metadata": {},
   "source": [
    "There was a slighly improvement after tuning the model."
   ]
  },
  {
   "cell_type": "code",
   "execution_count": 69,
   "metadata": {},
   "outputs": [
    {
     "name": "stdout",
     "output_type": "stream",
     "text": [
      "ROC_AUC score 0.9883419231288276\n"
     ]
    },
    {
     "data": {
      "image/png": "[encoded data removed]",
      "text/plain": [
       "<Figure size 432x288 with 1 Axes>"
      ]
     },
     "metadata": {
      "needs_background": "light"
     },
     "output_type": "display_data"
    }
   ],
   "source": [
    "print('ROC_AUC score', roc_auc_score(y_test, rf_clf.predict_proba(X_test_scaled)[:, 1]))\n",
    "\n",
    "fpr, tpr, threshold = roc_curve(y_test, rf_grid.best_estimator_.predict_proba(X_test_scaled)[:, 1])\n",
    "plt.plot(fpr, tpr, linewidth=2)\n",
    "plt.plot([0, 1], [0, 1], 'r')\n",
    "plt.axis([-0.02, 1, 0, 1.02])\n",
    "plt.xlabel('False Positive Rate (FPR)', fontsize=10)\n",
    "plt.ylabel('True Positive Rate (TPR)', fontsize=10)\n",
    "plt.title('ROC curve (Best random forest classifier)');"
   ]
  },
  {
   "cell_type": "code",
   "execution_count": 70,
   "metadata": {},
   "outputs": [
    {
     "data": {
      "image/png": "[encoded data removed]",
      "text/plain": [
       "<Figure size 720x360 with 1 Axes>"
      ]
     },
     "metadata": {
      "needs_background": "light"
     },
     "output_type": "display_data"
    }
   ],
   "source": [
    "# Plot 15 most important features to predict churn customers\n",
    "\n",
    "plt.figure(figsize=(10, 5))\n",
    "imps = rf_grid.best_estimator_.feature_importances_\n",
    "rf_feat_imps = pd.Series(imps, index=X_train.columns).sort_values()\n",
    "rf_feat_imps[-15:].plot(kind='barh')\n",
    "plt.xlabel('features')\n",
    "plt.ylabel('importance')\n",
    "plt.title('Best random forest classifier feature importances');"
   ]
  },
  {
   "cell_type": "markdown",
   "metadata": {},
   "source": [
    "As expected in the EDA step:\n",
    "- The most important features to predict churn customers are: Total_Trans_Ct, Total_Trans_Amt, Total_Revolving_Bal, Total_Ct_Chng_Q4_Q1, Avg_Utilization_Ratio, Total_Relationship_Count, Total_Amt_Chng_Q4_Q1.\n",
    "    \n",
    "- The categorical features do not have much impact in predicting churn customers."
   ]
  },
  {
   "cell_type": "markdown",
   "metadata": {},
   "source": [
    "#### 6.2 Parameter Tuning for Gradient Boosting\n"
   ]
  },
  {
   "cell_type": "code",
   "execution_count": 76,
   "metadata": {},
   "outputs": [
    {
     "name": "stdout",
     "output_type": "stream",
     "text": [
      "{'n_estimators': 200, 'max_depth': 4, 'learning_rate': 1}\n",
      "0.9618890473440427\n"
     ]
    }
   ],
   "source": [
    "gb_clf = GradientBoostingClassifier(max_features='auto', random_state=19)\n",
    "param_grid = {\n",
    "        'n_estimators' : [100, 200, 300],\n",
    "        'learning_rate': [0.1, 0.5, 1],\n",
    "        'max_depth': [4, 8]\n",
    "        }\n",
    "gb_grid = RandomizedSearchCV(gb_clf, param_grid, cv=5, scoring=\"accuracy\", n_jobs=-1, random_state=19)\n",
    "gb_grid.fit(X_train_scaled, y_train)\n",
    "\n",
    "print(gb_grid.best_params_)\n",
    "print(gb_grid.best_score_)"
   ]
  },
  {
   "cell_type": "code",
   "execution_count": 77,
   "metadata": {},
   "outputs": [
    {
     "name": "stdout",
     "output_type": "stream",
     "text": [
      "              precision    recall  f1-score   support\n",
      "\n",
      "           0       0.99      0.97      0.98      2551\n",
      "           1       0.85      0.94      0.89       488\n",
      "\n",
      "    accuracy                           0.96      3039\n",
      "   macro avg       0.92      0.96      0.94      3039\n",
      "weighted avg       0.97      0.96      0.96      3039\n",
      "\n",
      "\n",
      " Confusion Matrix\n"
     ]
    },
    {
     "data": {
      "image/png": "[encoded data removed]",
      "text/plain": [
       "<Figure size 432x288 with 2 Axes>"
      ]
     },
     "metadata": {
      "needs_background": "light"
     },
     "output_type": "display_data"
    }
   ],
   "source": [
    "# Classification report and confusion matrix\n",
    "\n",
    "print(classification_report(y_test, gb_grid.best_estimator_.predict(X_test_scaled)))\n",
    "print('\\n Confusion Matrix')\n",
    "plot_confusion_matrix(gb_grid, X_test_scaled, y_test, cmap='Blues')\n",
    "plt.title('Confusion matrix - Gradient Boosting Classifier');"
   ]
  },
  {
   "cell_type": "code",
   "execution_count": 78,
   "metadata": {
    "scrolled": true
   },
   "outputs": [
    {
     "name": "stdout",
     "output_type": "stream",
     "text": [
      "cv_scores: [0.95658263 0.95798319 0.95098039 0.96914446 0.97475456]\n",
      "cv_mean: 0.9618890473440427\n",
      "cv_std: 0.008724389600790899\n"
     ]
    }
   ],
   "source": [
    "# Cross validation scores\n",
    "\n",
    "cv_scores = cross_val_score(gb_grid.best_estimator_, X_train_scaled, y_train, cv=5, scoring='accuracy')\n",
    "print('cv_scores: {}'.format(cv_scores))\n",
    "print('cv_mean:', cv_scores.mean())\n",
    "print('cv_std:', cv_scores.std())"
   ]
  },
  {
   "cell_type": "markdown",
   "metadata": {},
   "source": [
    "There was no clear improvement after tuning the model. "
   ]
  },
  {
   "cell_type": "code",
   "execution_count": 74,
   "metadata": {},
   "outputs": [
    {
     "name": "stdout",
     "output_type": "stream",
     "text": [
      "ROC_AUC score 0.9909076157855166\n"
     ]
    },
    {
     "data": {
      "image/png": "[encoded data removed]",
      "text/plain": [
       "<Figure size 432x288 with 1 Axes>"
      ]
     },
     "metadata": {
      "needs_background": "light"
     },
     "output_type": "display_data"
    }
   ],
   "source": [
    "fpr, tpr, threshold = roc_curve(y_test, gb_grid.best_estimator_.predict_proba(X_test_scaled)[:, 1])\n",
    "plt.plot(fpr, tpr, linewidth=2)\n",
    "plt.plot([0, 1], [0, 1], 'r')\n",
    "plt.axis([-0.02, 1, 0, 1.02])\n",
    "plt.xlabel('False Positive Rate (FPR)', fontsize=10)\n",
    "plt.ylabel('True Positive Rate (TPR)', fontsize=10)\n",
    "plt.title('ROC curve (Best gradient boosting classifier)');\n",
    "\n",
    "print('ROC_AUC score', roc_auc_score(y_test, gb_grid.best_estimator_.predict_proba(X_test_scaled)[:, 1]))"
   ]
  },
  {
   "cell_type": "code",
   "execution_count": 75,
   "metadata": {},
   "outputs": [
    {
     "data": {
      "image/png": "[encoded data removed]",
      "text/plain": [
       "<Figure size 720x360 with 1 Axes>"
      ]
     },
     "metadata": {
      "needs_background": "light"
     },
     "output_type": "display_data"
    }
   ],
   "source": [
    "# Plot 15 most important features to predict churn customers\n",
    "\n",
    "plt.figure(figsize=(10, 5))\n",
    "imps = gb_grid.best_estimator_.feature_importances_\n",
    "gb_feat_imps = pd.Series(imps, index=X_train.columns).sort_values()\n",
    "gb_feat_imps[-15:].plot(kind='barh')\n",
    "plt.xlabel('features')\n",
    "plt.ylabel('importance')\n",
    "plt.title('Best gradient boosting classifier feature importances');"
   ]
  },
  {
   "cell_type": "markdown",
   "metadata": {},
   "source": [
    "As expected in the EDA step:\n",
    "- The most important features to predict churn customers are: Total_Trans_Ct, Total_Trans_Amt, Total_Revolving_Bal, Total_Ct_Chng_Q4_Q1, Total_Relationship_Count, Total_Amt_Chng_Q4_Q1.\n",
    "    \n",
    "- The categorical features do not have much impact in predicting churn customers.\n",
    "\n",
    "These features are consistent with the Random Forest Model."
   ]
  },
  {
   "cell_type": "markdown",
   "metadata": {},
   "source": [
    "### 9. Feature Selection"
   ]
  },
  {
   "cell_type": "code",
   "execution_count": 94,
   "metadata": {},
   "outputs": [],
   "source": [
    "# In the EDA notebook, we explored that categorical features have almost no effect on churning customers. \n",
    "# Also, Customer_Age, Dependent_count and Months_on_book were not important as well. \n",
    "# Therefore, we will remove these columns\n",
    "\n",
    "drop_cols = ['Gender', 'Education_Level', 'Marital_Status', 'Income_Category', 'Card_Category',\n",
    "             'Customer_Age', 'Dependent_count', 'Months_on_book']\n",
    "\n",
    "X_train_scaled = X_train_scaled.drop(drop_cols, axis=1)\n",
    "X_test_scaled = X_test_scaled.drop(drop_cols, axis=1)"
   ]
  },
  {
   "cell_type": "code",
   "execution_count": 97,
   "metadata": {},
   "outputs": [
    {
     "name": "stdout",
     "output_type": "stream",
     "text": [
      "{'n_estimators': 325, 'max_depth': 60}\n",
      "0.9529215332696893\n"
     ]
    }
   ],
   "source": [
    "# Apply Random Forest model\n",
    "\n",
    "rf = RandomForestClassifier(max_features='auto', n_jobs=-1, random_state=19)\n",
    "\n",
    "n_estimators = [int(i) for i in np.linspace(100, 1000, 5)]\n",
    "max_depth = [int(i) for i in np.linspace(10, 100, 10)]\n",
    "param_grid = {'n_estimators': n_estimators, 'max_depth': max_depth}\n",
    "\n",
    "rf_grid = RandomizedSearchCV(rf, param_grid, cv=5, n_jobs=-1, random_state=19)\n",
    "rf_grid.fit(X_train_scaled, y_train)\n",
    "              \n",
    "print(rf_grid.best_params_) \n",
    "print(rf_grid.best_score_)"
   ]
  },
  {
   "cell_type": "code",
   "execution_count": 98,
   "metadata": {},
   "outputs": [
    {
     "name": "stdout",
     "output_type": "stream",
     "text": [
      "              precision    recall  f1-score   support\n",
      "\n",
      "           0       0.99      0.95      0.97      2551\n",
      "           1       0.78      0.95      0.85       488\n",
      "\n",
      "    accuracy                           0.95      3039\n",
      "   macro avg       0.88      0.95      0.91      3039\n",
      "weighted avg       0.96      0.95      0.95      3039\n",
      "\n",
      "\n",
      " Confusion Matrix\n"
     ]
    },
    {
     "data": {
      "image/png": "[encoded data removed]",
      "text/plain": [
       "<Figure size 432x288 with 2 Axes>"
      ]
     },
     "metadata": {
      "needs_background": "light"
     },
     "output_type": "display_data"
    }
   ],
   "source": [
    "print(classification_report(y_test, rf_grid.best_estimator_.predict(X_test_scaled)))\n",
    "print('\\n Confusion Matrix')\n",
    "plot_confusion_matrix(rf_grid, X_test_scaled, y_test, cmap='Blues')\n",
    "plt.title('Confusion matrix - Random Forest Classifier');"
   ]
  },
  {
   "cell_type": "markdown",
   "metadata": {},
   "source": [
    "Runing model with feature selection did not perform as well as the original model.\n",
    "\n",
    "Therefore, we will use all of the features to train the model."
   ]
  },
  {
   "cell_type": "markdown",
   "metadata": {},
   "source": [
    "### 8. Conclusion"
   ]
  },
  {
   "cell_type": "markdown",
   "metadata": {},
   "source": [
    "The two best performing models are the Random Forest and the Gradient Boosting. Both models have the 95% accuracy and 95% recall score. These models can be considered good enough to in predicting churn customers.\n",
    "\n",
    "These are the most important features to identify a churn customer:\n",
    "- Total_Trans_Ct\n",
    "- Total_Trans_Amt\n",
    "- Total_Revolving_Bal\n",
    "- Total_Ct_Chng_Q4_Q1\n",
    "- Total_Relationship_Count\n",
    "- Total_Amt_Chng_Q4_Q1\n",
    "\n",
    "The business cannot use any categorical features to predict churn customers since the categorical features have almost no values in identifying customers with high possibility of churning.\n",
    "\n",
    "The predictive models can be implemented to help identify churn customers in the early stage, so that the business can proactively approach customers with better services turn customers' decisions in the opposite direction."
   ]
  }
 ],
 "metadata": {
  "kernelspec": {
   "display_name": "Python 3",
   "language": "python",
   "name": "python3"
  },
  "language_info": {
   "codemirror_mode": {
    "name": "ipython",
    "version": 3
   },
   "file_extension": ".py",
   "mimetype": "text/x-python",
   "name": "python",
   "nbconvert_exporter": "python",
   "pygments_lexer": "ipython3",
   "version": "3.8.5"
  }
 },
 "nbformat": 4,
 "nbformat_minor": 4
}
