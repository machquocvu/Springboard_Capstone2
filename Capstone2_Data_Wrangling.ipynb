{
 "cells": [
  {
   "cell_type": "markdown",
   "metadata": {},
   "source": [
    "### 1. Load The Credit Card Data"
   ]
  },
  {
   "cell_type": "code",
   "execution_count": 1,
   "metadata": {},
   "outputs": [],
   "source": [
    "import numpy as np\n",
    "import pandas as pd\n",
    "import matplotlib.pyplot as plt\n",
    "import seaborn as sns"
   ]
  },
  {
   "cell_type": "code",
   "execution_count": 2,
   "metadata": {},
   "outputs": [],
   "source": [
    "churn_data = pd.read_csv('Dataset/BankChurners.csv')"
   ]
  },
  {
   "cell_type": "code",
   "execution_count": 3,
   "metadata": {},
   "outputs": [
    {
     "data": {
      "text/plain": [
       "(10127, 23)"
      ]
     },
     "execution_count": 3,
     "metadata": {},
     "output_type": "execute_result"
    }
   ],
   "source": [
    "churn_data.shape"
   ]
  },
  {
   "cell_type": "code",
   "execution_count": 4,
   "metadata": {},
   "outputs": [
    {
     "data": {
      "text/html": [
       "<div>\n",
       "<style scoped>\n",
       "    .dataframe tbody tr th:only-of-type {\n",
       "        vertical-align: middle;\n",
       "    }\n",
       "\n",
       "    .dataframe tbody tr th {\n",
       "        vertical-align: top;\n",
       "    }\n",
       "\n",
       "    .dataframe thead th {\n",
       "        text-align: right;\n",
       "    }\n",
       "</style>\n",
       "<table border=\"1\" class=\"dataframe\">\n",
       "  <thead>\n",
       "    <tr style=\"text-align: right;\">\n",
       "      <th></th>\n",
       "      <th>CLIENTNUM</th>\n",
       "      <th>Attrition_Flag</th>\n",
       "      <th>Customer_Age</th>\n",
       "      <th>Gender</th>\n",
       "      <th>Dependent_count</th>\n",
       "      <th>Education_Level</th>\n",
       "      <th>Marital_Status</th>\n",
       "      <th>Income_Category</th>\n",
       "      <th>Card_Category</th>\n",
       "      <th>Months_on_book</th>\n",
       "      <th>...</th>\n",
       "      <th>Credit_Limit</th>\n",
       "      <th>Total_Revolving_Bal</th>\n",
       "      <th>Avg_Open_To_Buy</th>\n",
       "      <th>Total_Amt_Chng_Q4_Q1</th>\n",
       "      <th>Total_Trans_Amt</th>\n",
       "      <th>Total_Trans_Ct</th>\n",
       "      <th>Total_Ct_Chng_Q4_Q1</th>\n",
       "      <th>Avg_Utilization_Ratio</th>\n",
       "      <th>Naive_Bayes_Classifier_Attrition_Flag_Card_Category_Contacts_Count_12_mon_Dependent_count_Education_Level_Months_Inactive_12_mon_1</th>\n",
       "      <th>Naive_Bayes_Classifier_Attrition_Flag_Card_Category_Contacts_Count_12_mon_Dependent_count_Education_Level_Months_Inactive_12_mon_2</th>\n",
       "    </tr>\n",
       "  </thead>\n",
       "  <tbody>\n",
       "    <tr>\n",
       "      <th>0</th>\n",
       "      <td>768805383</td>\n",
       "      <td>Existing Customer</td>\n",
       "      <td>45</td>\n",
       "      <td>M</td>\n",
       "      <td>3</td>\n",
       "      <td>High School</td>\n",
       "      <td>Married</td>\n",
       "      <td>$60K - $80K</td>\n",
       "      <td>Blue</td>\n",
       "      <td>39</td>\n",
       "      <td>...</td>\n",
       "      <td>12691.0</td>\n",
       "      <td>777</td>\n",
       "      <td>11914.0</td>\n",
       "      <td>1.335</td>\n",
       "      <td>1144</td>\n",
       "      <td>42</td>\n",
       "      <td>1.625</td>\n",
       "      <td>0.061</td>\n",
       "      <td>0.000093</td>\n",
       "      <td>0.99991</td>\n",
       "    </tr>\n",
       "    <tr>\n",
       "      <th>1</th>\n",
       "      <td>818770008</td>\n",
       "      <td>Existing Customer</td>\n",
       "      <td>49</td>\n",
       "      <td>F</td>\n",
       "      <td>5</td>\n",
       "      <td>Graduate</td>\n",
       "      <td>Single</td>\n",
       "      <td>Less than $40K</td>\n",
       "      <td>Blue</td>\n",
       "      <td>44</td>\n",
       "      <td>...</td>\n",
       "      <td>8256.0</td>\n",
       "      <td>864</td>\n",
       "      <td>7392.0</td>\n",
       "      <td>1.541</td>\n",
       "      <td>1291</td>\n",
       "      <td>33</td>\n",
       "      <td>3.714</td>\n",
       "      <td>0.105</td>\n",
       "      <td>0.000057</td>\n",
       "      <td>0.99994</td>\n",
       "    </tr>\n",
       "    <tr>\n",
       "      <th>2</th>\n",
       "      <td>713982108</td>\n",
       "      <td>Existing Customer</td>\n",
       "      <td>51</td>\n",
       "      <td>M</td>\n",
       "      <td>3</td>\n",
       "      <td>Graduate</td>\n",
       "      <td>Married</td>\n",
       "      <td>$80K - $120K</td>\n",
       "      <td>Blue</td>\n",
       "      <td>36</td>\n",
       "      <td>...</td>\n",
       "      <td>3418.0</td>\n",
       "      <td>0</td>\n",
       "      <td>3418.0</td>\n",
       "      <td>2.594</td>\n",
       "      <td>1887</td>\n",
       "      <td>20</td>\n",
       "      <td>2.333</td>\n",
       "      <td>0.000</td>\n",
       "      <td>0.000021</td>\n",
       "      <td>0.99998</td>\n",
       "    </tr>\n",
       "    <tr>\n",
       "      <th>3</th>\n",
       "      <td>769911858</td>\n",
       "      <td>Existing Customer</td>\n",
       "      <td>40</td>\n",
       "      <td>F</td>\n",
       "      <td>4</td>\n",
       "      <td>High School</td>\n",
       "      <td>Unknown</td>\n",
       "      <td>Less than $40K</td>\n",
       "      <td>Blue</td>\n",
       "      <td>34</td>\n",
       "      <td>...</td>\n",
       "      <td>3313.0</td>\n",
       "      <td>2517</td>\n",
       "      <td>796.0</td>\n",
       "      <td>1.405</td>\n",
       "      <td>1171</td>\n",
       "      <td>20</td>\n",
       "      <td>2.333</td>\n",
       "      <td>0.760</td>\n",
       "      <td>0.000134</td>\n",
       "      <td>0.99987</td>\n",
       "    </tr>\n",
       "    <tr>\n",
       "      <th>4</th>\n",
       "      <td>709106358</td>\n",
       "      <td>Existing Customer</td>\n",
       "      <td>40</td>\n",
       "      <td>M</td>\n",
       "      <td>3</td>\n",
       "      <td>Uneducated</td>\n",
       "      <td>Married</td>\n",
       "      <td>$60K - $80K</td>\n",
       "      <td>Blue</td>\n",
       "      <td>21</td>\n",
       "      <td>...</td>\n",
       "      <td>4716.0</td>\n",
       "      <td>0</td>\n",
       "      <td>4716.0</td>\n",
       "      <td>2.175</td>\n",
       "      <td>816</td>\n",
       "      <td>28</td>\n",
       "      <td>2.500</td>\n",
       "      <td>0.000</td>\n",
       "      <td>0.000022</td>\n",
       "      <td>0.99998</td>\n",
       "    </tr>\n",
       "  </tbody>\n",
       "</table>\n",
       "<p>5 rows × 23 columns</p>\n",
       "</div>"
      ],
      "text/plain": [
       "   CLIENTNUM     Attrition_Flag  Customer_Age Gender  Dependent_count  \\\n",
       "0  768805383  Existing Customer            45      M                3   \n",
       "1  818770008  Existing Customer            49      F                5   \n",
       "2  713982108  Existing Customer            51      M                3   \n",
       "3  769911858  Existing Customer            40      F                4   \n",
       "4  709106358  Existing Customer            40      M                3   \n",
       "\n",
       "  Education_Level Marital_Status Income_Category Card_Category  \\\n",
       "0     High School        Married     $60K - $80K          Blue   \n",
       "1        Graduate         Single  Less than $40K          Blue   \n",
       "2        Graduate        Married    $80K - $120K          Blue   \n",
       "3     High School        Unknown  Less than $40K          Blue   \n",
       "4      Uneducated        Married     $60K - $80K          Blue   \n",
       "\n",
       "   Months_on_book  ...  Credit_Limit  Total_Revolving_Bal  Avg_Open_To_Buy  \\\n",
       "0              39  ...       12691.0                  777          11914.0   \n",
       "1              44  ...        8256.0                  864           7392.0   \n",
       "2              36  ...        3418.0                    0           3418.0   \n",
       "3              34  ...        3313.0                 2517            796.0   \n",
       "4              21  ...        4716.0                    0           4716.0   \n",
       "\n",
       "   Total_Amt_Chng_Q4_Q1  Total_Trans_Amt  Total_Trans_Ct  Total_Ct_Chng_Q4_Q1  \\\n",
       "0                 1.335             1144              42                1.625   \n",
       "1                 1.541             1291              33                3.714   \n",
       "2                 2.594             1887              20                2.333   \n",
       "3                 1.405             1171              20                2.333   \n",
       "4                 2.175              816              28                2.500   \n",
       "\n",
       "   Avg_Utilization_Ratio  \\\n",
       "0                  0.061   \n",
       "1                  0.105   \n",
       "2                  0.000   \n",
       "3                  0.760   \n",
       "4                  0.000   \n",
       "\n",
       "   Naive_Bayes_Classifier_Attrition_Flag_Card_Category_Contacts_Count_12_mon_Dependent_count_Education_Level_Months_Inactive_12_mon_1  \\\n",
       "0                                           0.000093                                                                                    \n",
       "1                                           0.000057                                                                                    \n",
       "2                                           0.000021                                                                                    \n",
       "3                                           0.000134                                                                                    \n",
       "4                                           0.000022                                                                                    \n",
       "\n",
       "   Naive_Bayes_Classifier_Attrition_Flag_Card_Category_Contacts_Count_12_mon_Dependent_count_Education_Level_Months_Inactive_12_mon_2  \n",
       "0                                            0.99991                                                                                   \n",
       "1                                            0.99994                                                                                   \n",
       "2                                            0.99998                                                                                   \n",
       "3                                            0.99987                                                                                   \n",
       "4                                            0.99998                                                                                   \n",
       "\n",
       "[5 rows x 23 columns]"
      ]
     },
     "execution_count": 4,
     "metadata": {},
     "output_type": "execute_result"
    }
   ],
   "source": [
    "churn_data.head()"
   ]
  },
  {
   "cell_type": "code",
   "execution_count": 5,
   "metadata": {},
   "outputs": [],
   "source": [
    "# Remove CLIENTNUM and last 2 columns (to ignore the Naive_Bayes columns as per the author of the dataset)\n",
    "df = churn_data.iloc[:, 1:-2]"
   ]
  },
  {
   "cell_type": "code",
   "execution_count": 6,
   "metadata": {},
   "outputs": [
    {
     "data": {
      "text/plain": [
       "array(['$60K - $80K', 'Less than $40K', '$80K - $120K', '$40K - $60K',\n",
       "       '$120K +', 'Unknown'], dtype=object)"
      ]
     },
     "execution_count": 6,
     "metadata": {},
     "output_type": "execute_result"
    }
   ],
   "source": [
    "# examine Income_Category values\n",
    "df.Income_Category.unique()"
   ]
  },
  {
   "cell_type": "code",
   "execution_count": 7,
   "metadata": {},
   "outputs": [],
   "source": [
    "# Remove $ symbol\n",
    "df['Income_Category'] = df.Income_Category.str.replace('$', '')"
   ]
  },
  {
   "cell_type": "code",
   "execution_count": 8,
   "metadata": {},
   "outputs": [
    {
     "data": {
      "text/html": [
       "<div>\n",
       "<style scoped>\n",
       "    .dataframe tbody tr th:only-of-type {\n",
       "        vertical-align: middle;\n",
       "    }\n",
       "\n",
       "    .dataframe tbody tr th {\n",
       "        vertical-align: top;\n",
       "    }\n",
       "\n",
       "    .dataframe thead th {\n",
       "        text-align: right;\n",
       "    }\n",
       "</style>\n",
       "<table border=\"1\" class=\"dataframe\">\n",
       "  <thead>\n",
       "    <tr style=\"text-align: right;\">\n",
       "      <th></th>\n",
       "      <th>0</th>\n",
       "      <th>1</th>\n",
       "      <th>2</th>\n",
       "      <th>3</th>\n",
       "      <th>4</th>\n",
       "    </tr>\n",
       "  </thead>\n",
       "  <tbody>\n",
       "    <tr>\n",
       "      <th>Attrition_Flag</th>\n",
       "      <td>Existing Customer</td>\n",
       "      <td>Existing Customer</td>\n",
       "      <td>Existing Customer</td>\n",
       "      <td>Existing Customer</td>\n",
       "      <td>Existing Customer</td>\n",
       "    </tr>\n",
       "    <tr>\n",
       "      <th>Customer_Age</th>\n",
       "      <td>45</td>\n",
       "      <td>49</td>\n",
       "      <td>51</td>\n",
       "      <td>40</td>\n",
       "      <td>40</td>\n",
       "    </tr>\n",
       "    <tr>\n",
       "      <th>Gender</th>\n",
       "      <td>M</td>\n",
       "      <td>F</td>\n",
       "      <td>M</td>\n",
       "      <td>F</td>\n",
       "      <td>M</td>\n",
       "    </tr>\n",
       "    <tr>\n",
       "      <th>Dependent_count</th>\n",
       "      <td>3</td>\n",
       "      <td>5</td>\n",
       "      <td>3</td>\n",
       "      <td>4</td>\n",
       "      <td>3</td>\n",
       "    </tr>\n",
       "    <tr>\n",
       "      <th>Education_Level</th>\n",
       "      <td>High School</td>\n",
       "      <td>Graduate</td>\n",
       "      <td>Graduate</td>\n",
       "      <td>High School</td>\n",
       "      <td>Uneducated</td>\n",
       "    </tr>\n",
       "    <tr>\n",
       "      <th>Marital_Status</th>\n",
       "      <td>Married</td>\n",
       "      <td>Single</td>\n",
       "      <td>Married</td>\n",
       "      <td>Unknown</td>\n",
       "      <td>Married</td>\n",
       "    </tr>\n",
       "    <tr>\n",
       "      <th>Income_Category</th>\n",
       "      <td>60K - 80K</td>\n",
       "      <td>Less than 40K</td>\n",
       "      <td>80K - 120K</td>\n",
       "      <td>Less than 40K</td>\n",
       "      <td>60K - 80K</td>\n",
       "    </tr>\n",
       "    <tr>\n",
       "      <th>Card_Category</th>\n",
       "      <td>Blue</td>\n",
       "      <td>Blue</td>\n",
       "      <td>Blue</td>\n",
       "      <td>Blue</td>\n",
       "      <td>Blue</td>\n",
       "    </tr>\n",
       "    <tr>\n",
       "      <th>Months_on_book</th>\n",
       "      <td>39</td>\n",
       "      <td>44</td>\n",
       "      <td>36</td>\n",
       "      <td>34</td>\n",
       "      <td>21</td>\n",
       "    </tr>\n",
       "    <tr>\n",
       "      <th>Total_Relationship_Count</th>\n",
       "      <td>5</td>\n",
       "      <td>6</td>\n",
       "      <td>4</td>\n",
       "      <td>3</td>\n",
       "      <td>5</td>\n",
       "    </tr>\n",
       "    <tr>\n",
       "      <th>Months_Inactive_12_mon</th>\n",
       "      <td>1</td>\n",
       "      <td>1</td>\n",
       "      <td>1</td>\n",
       "      <td>4</td>\n",
       "      <td>1</td>\n",
       "    </tr>\n",
       "    <tr>\n",
       "      <th>Contacts_Count_12_mon</th>\n",
       "      <td>3</td>\n",
       "      <td>2</td>\n",
       "      <td>0</td>\n",
       "      <td>1</td>\n",
       "      <td>0</td>\n",
       "    </tr>\n",
       "    <tr>\n",
       "      <th>Credit_Limit</th>\n",
       "      <td>12691</td>\n",
       "      <td>8256</td>\n",
       "      <td>3418</td>\n",
       "      <td>3313</td>\n",
       "      <td>4716</td>\n",
       "    </tr>\n",
       "    <tr>\n",
       "      <th>Total_Revolving_Bal</th>\n",
       "      <td>777</td>\n",
       "      <td>864</td>\n",
       "      <td>0</td>\n",
       "      <td>2517</td>\n",
       "      <td>0</td>\n",
       "    </tr>\n",
       "    <tr>\n",
       "      <th>Avg_Open_To_Buy</th>\n",
       "      <td>11914</td>\n",
       "      <td>7392</td>\n",
       "      <td>3418</td>\n",
       "      <td>796</td>\n",
       "      <td>4716</td>\n",
       "    </tr>\n",
       "    <tr>\n",
       "      <th>Total_Amt_Chng_Q4_Q1</th>\n",
       "      <td>1.335</td>\n",
       "      <td>1.541</td>\n",
       "      <td>2.594</td>\n",
       "      <td>1.405</td>\n",
       "      <td>2.175</td>\n",
       "    </tr>\n",
       "    <tr>\n",
       "      <th>Total_Trans_Amt</th>\n",
       "      <td>1144</td>\n",
       "      <td>1291</td>\n",
       "      <td>1887</td>\n",
       "      <td>1171</td>\n",
       "      <td>816</td>\n",
       "    </tr>\n",
       "    <tr>\n",
       "      <th>Total_Trans_Ct</th>\n",
       "      <td>42</td>\n",
       "      <td>33</td>\n",
       "      <td>20</td>\n",
       "      <td>20</td>\n",
       "      <td>28</td>\n",
       "    </tr>\n",
       "    <tr>\n",
       "      <th>Total_Ct_Chng_Q4_Q1</th>\n",
       "      <td>1.625</td>\n",
       "      <td>3.714</td>\n",
       "      <td>2.333</td>\n",
       "      <td>2.333</td>\n",
       "      <td>2.5</td>\n",
       "    </tr>\n",
       "    <tr>\n",
       "      <th>Avg_Utilization_Ratio</th>\n",
       "      <td>0.061</td>\n",
       "      <td>0.105</td>\n",
       "      <td>0</td>\n",
       "      <td>0.76</td>\n",
       "      <td>0</td>\n",
       "    </tr>\n",
       "  </tbody>\n",
       "</table>\n",
       "</div>"
      ],
      "text/plain": [
       "                                          0                  1  \\\n",
       "Attrition_Flag            Existing Customer  Existing Customer   \n",
       "Customer_Age                             45                 49   \n",
       "Gender                                    M                  F   \n",
       "Dependent_count                           3                  5   \n",
       "Education_Level                 High School           Graduate   \n",
       "Marital_Status                      Married             Single   \n",
       "Income_Category                   60K - 80K      Less than 40K   \n",
       "Card_Category                          Blue               Blue   \n",
       "Months_on_book                           39                 44   \n",
       "Total_Relationship_Count                  5                  6   \n",
       "Months_Inactive_12_mon                    1                  1   \n",
       "Contacts_Count_12_mon                     3                  2   \n",
       "Credit_Limit                          12691               8256   \n",
       "Total_Revolving_Bal                     777                864   \n",
       "Avg_Open_To_Buy                       11914               7392   \n",
       "Total_Amt_Chng_Q4_Q1                  1.335              1.541   \n",
       "Total_Trans_Amt                        1144               1291   \n",
       "Total_Trans_Ct                           42                 33   \n",
       "Total_Ct_Chng_Q4_Q1                   1.625              3.714   \n",
       "Avg_Utilization_Ratio                 0.061              0.105   \n",
       "\n",
       "                                          2                  3  \\\n",
       "Attrition_Flag            Existing Customer  Existing Customer   \n",
       "Customer_Age                             51                 40   \n",
       "Gender                                    M                  F   \n",
       "Dependent_count                           3                  4   \n",
       "Education_Level                    Graduate        High School   \n",
       "Marital_Status                      Married            Unknown   \n",
       "Income_Category                  80K - 120K      Less than 40K   \n",
       "Card_Category                          Blue               Blue   \n",
       "Months_on_book                           36                 34   \n",
       "Total_Relationship_Count                  4                  3   \n",
       "Months_Inactive_12_mon                    1                  4   \n",
       "Contacts_Count_12_mon                     0                  1   \n",
       "Credit_Limit                           3418               3313   \n",
       "Total_Revolving_Bal                       0               2517   \n",
       "Avg_Open_To_Buy                        3418                796   \n",
       "Total_Amt_Chng_Q4_Q1                  2.594              1.405   \n",
       "Total_Trans_Amt                        1887               1171   \n",
       "Total_Trans_Ct                           20                 20   \n",
       "Total_Ct_Chng_Q4_Q1                   2.333              2.333   \n",
       "Avg_Utilization_Ratio                     0               0.76   \n",
       "\n",
       "                                          4  \n",
       "Attrition_Flag            Existing Customer  \n",
       "Customer_Age                             40  \n",
       "Gender                                    M  \n",
       "Dependent_count                           3  \n",
       "Education_Level                  Uneducated  \n",
       "Marital_Status                      Married  \n",
       "Income_Category                   60K - 80K  \n",
       "Card_Category                          Blue  \n",
       "Months_on_book                           21  \n",
       "Total_Relationship_Count                  5  \n",
       "Months_Inactive_12_mon                    1  \n",
       "Contacts_Count_12_mon                     0  \n",
       "Credit_Limit                           4716  \n",
       "Total_Revolving_Bal                       0  \n",
       "Avg_Open_To_Buy                        4716  \n",
       "Total_Amt_Chng_Q4_Q1                  2.175  \n",
       "Total_Trans_Amt                         816  \n",
       "Total_Trans_Ct                           28  \n",
       "Total_Ct_Chng_Q4_Q1                     2.5  \n",
       "Avg_Utilization_Ratio                     0  "
      ]
     },
     "execution_count": 8,
     "metadata": {},
     "output_type": "execute_result"
    }
   ],
   "source": [
    "df.head().T"
   ]
  },
  {
   "cell_type": "markdown",
   "metadata": {},
   "source": [
    "###  2. Number of Missing Values by Column"
   ]
  },
  {
   "cell_type": "code",
   "execution_count": 9,
   "metadata": {},
   "outputs": [
    {
     "data": {
      "text/plain": [
       "Attrition_Flag              0\n",
       "Customer_Age                0\n",
       "Gender                      0\n",
       "Dependent_count             0\n",
       "Education_Level             0\n",
       "Marital_Status              0\n",
       "Income_Category             0\n",
       "Card_Category               0\n",
       "Months_on_book              0\n",
       "Total_Relationship_Count    0\n",
       "Months_Inactive_12_mon      0\n",
       "Contacts_Count_12_mon       0\n",
       "Credit_Limit                0\n",
       "Total_Revolving_Bal         0\n",
       "Avg_Open_To_Buy             0\n",
       "Total_Amt_Chng_Q4_Q1        0\n",
       "Total_Trans_Amt             0\n",
       "Total_Trans_Ct              0\n",
       "Total_Ct_Chng_Q4_Q1         0\n",
       "Avg_Utilization_Ratio       0\n",
       "dtype: int64"
      ]
     },
     "execution_count": 9,
     "metadata": {},
     "output_type": "execute_result"
    }
   ],
   "source": [
    "# There was no missing value in any column\n",
    "df.isna().sum()"
   ]
  },
  {
   "cell_type": "markdown",
   "metadata": {},
   "source": [
    "### 3. Categorical Features"
   ]
  },
  {
   "cell_type": "code",
   "execution_count": 10,
   "metadata": {},
   "outputs": [
    {
     "data": {
      "text/html": [
       "<div>\n",
       "<style scoped>\n",
       "    .dataframe tbody tr th:only-of-type {\n",
       "        vertical-align: middle;\n",
       "    }\n",
       "\n",
       "    .dataframe tbody tr th {\n",
       "        vertical-align: top;\n",
       "    }\n",
       "\n",
       "    .dataframe thead th {\n",
       "        text-align: right;\n",
       "    }\n",
       "</style>\n",
       "<table border=\"1\" class=\"dataframe\">\n",
       "  <thead>\n",
       "    <tr style=\"text-align: right;\">\n",
       "      <th></th>\n",
       "      <th>Attrition_Flag</th>\n",
       "      <th>Gender</th>\n",
       "      <th>Education_Level</th>\n",
       "      <th>Marital_Status</th>\n",
       "      <th>Income_Category</th>\n",
       "      <th>Card_Category</th>\n",
       "    </tr>\n",
       "  </thead>\n",
       "  <tbody>\n",
       "    <tr>\n",
       "      <th>0</th>\n",
       "      <td>Existing Customer</td>\n",
       "      <td>M</td>\n",
       "      <td>High School</td>\n",
       "      <td>Married</td>\n",
       "      <td>60K - 80K</td>\n",
       "      <td>Blue</td>\n",
       "    </tr>\n",
       "    <tr>\n",
       "      <th>1</th>\n",
       "      <td>Existing Customer</td>\n",
       "      <td>F</td>\n",
       "      <td>Graduate</td>\n",
       "      <td>Single</td>\n",
       "      <td>Less than 40K</td>\n",
       "      <td>Blue</td>\n",
       "    </tr>\n",
       "    <tr>\n",
       "      <th>2</th>\n",
       "      <td>Existing Customer</td>\n",
       "      <td>M</td>\n",
       "      <td>Graduate</td>\n",
       "      <td>Married</td>\n",
       "      <td>80K - 120K</td>\n",
       "      <td>Blue</td>\n",
       "    </tr>\n",
       "    <tr>\n",
       "      <th>3</th>\n",
       "      <td>Existing Customer</td>\n",
       "      <td>F</td>\n",
       "      <td>High School</td>\n",
       "      <td>Unknown</td>\n",
       "      <td>Less than 40K</td>\n",
       "      <td>Blue</td>\n",
       "    </tr>\n",
       "    <tr>\n",
       "      <th>4</th>\n",
       "      <td>Existing Customer</td>\n",
       "      <td>M</td>\n",
       "      <td>Uneducated</td>\n",
       "      <td>Married</td>\n",
       "      <td>60K - 80K</td>\n",
       "      <td>Blue</td>\n",
       "    </tr>\n",
       "    <tr>\n",
       "      <th>...</th>\n",
       "      <td>...</td>\n",
       "      <td>...</td>\n",
       "      <td>...</td>\n",
       "      <td>...</td>\n",
       "      <td>...</td>\n",
       "      <td>...</td>\n",
       "    </tr>\n",
       "    <tr>\n",
       "      <th>10122</th>\n",
       "      <td>Existing Customer</td>\n",
       "      <td>M</td>\n",
       "      <td>Graduate</td>\n",
       "      <td>Single</td>\n",
       "      <td>40K - 60K</td>\n",
       "      <td>Blue</td>\n",
       "    </tr>\n",
       "    <tr>\n",
       "      <th>10123</th>\n",
       "      <td>Attrited Customer</td>\n",
       "      <td>M</td>\n",
       "      <td>Unknown</td>\n",
       "      <td>Divorced</td>\n",
       "      <td>40K - 60K</td>\n",
       "      <td>Blue</td>\n",
       "    </tr>\n",
       "    <tr>\n",
       "      <th>10124</th>\n",
       "      <td>Attrited Customer</td>\n",
       "      <td>F</td>\n",
       "      <td>High School</td>\n",
       "      <td>Married</td>\n",
       "      <td>Less than 40K</td>\n",
       "      <td>Blue</td>\n",
       "    </tr>\n",
       "    <tr>\n",
       "      <th>10125</th>\n",
       "      <td>Attrited Customer</td>\n",
       "      <td>M</td>\n",
       "      <td>Graduate</td>\n",
       "      <td>Unknown</td>\n",
       "      <td>40K - 60K</td>\n",
       "      <td>Blue</td>\n",
       "    </tr>\n",
       "    <tr>\n",
       "      <th>10126</th>\n",
       "      <td>Attrited Customer</td>\n",
       "      <td>F</td>\n",
       "      <td>Graduate</td>\n",
       "      <td>Married</td>\n",
       "      <td>Less than 40K</td>\n",
       "      <td>Silver</td>\n",
       "    </tr>\n",
       "  </tbody>\n",
       "</table>\n",
       "<p>10127 rows × 6 columns</p>\n",
       "</div>"
      ],
      "text/plain": [
       "          Attrition_Flag Gender Education_Level Marital_Status  \\\n",
       "0      Existing Customer      M     High School        Married   \n",
       "1      Existing Customer      F        Graduate         Single   \n",
       "2      Existing Customer      M        Graduate        Married   \n",
       "3      Existing Customer      F     High School        Unknown   \n",
       "4      Existing Customer      M      Uneducated        Married   \n",
       "...                  ...    ...             ...            ...   \n",
       "10122  Existing Customer      M        Graduate         Single   \n",
       "10123  Attrited Customer      M         Unknown       Divorced   \n",
       "10124  Attrited Customer      F     High School        Married   \n",
       "10125  Attrited Customer      M        Graduate        Unknown   \n",
       "10126  Attrited Customer      F        Graduate        Married   \n",
       "\n",
       "      Income_Category Card_Category  \n",
       "0           60K - 80K          Blue  \n",
       "1       Less than 40K          Blue  \n",
       "2          80K - 120K          Blue  \n",
       "3       Less than 40K          Blue  \n",
       "4           60K - 80K          Blue  \n",
       "...               ...           ...  \n",
       "10122       40K - 60K          Blue  \n",
       "10123       40K - 60K          Blue  \n",
       "10124   Less than 40K          Blue  \n",
       "10125       40K - 60K          Blue  \n",
       "10126   Less than 40K        Silver  \n",
       "\n",
       "[10127 rows x 6 columns]"
      ]
     },
     "execution_count": 10,
     "metadata": {},
     "output_type": "execute_result"
    }
   ],
   "source": [
    "df.select_dtypes('object')"
   ]
  },
  {
   "cell_type": "markdown",
   "metadata": {},
   "source": [
    "#### 3.1 Attrition_Flag - Target Feature"
   ]
  },
  {
   "cell_type": "code",
   "execution_count": 11,
   "metadata": {},
   "outputs": [
    {
     "data": {
      "text/plain": [
       "Existing Customer    8500\n",
       "Attrited Customer    1627\n",
       "Name: Attrition_Flag, dtype: int64"
      ]
     },
     "execution_count": 11,
     "metadata": {},
     "output_type": "execute_result"
    }
   ],
   "source": [
    "# Examine Attrition_Flag feature, no missing value on target feature\n",
    "df.Attrition_Flag.value_counts()"
   ]
  },
  {
   "cell_type": "markdown",
   "metadata": {},
   "source": [
    "#### 3.2 Gender"
   ]
  },
  {
   "cell_type": "code",
   "execution_count": 12,
   "metadata": {},
   "outputs": [
    {
     "data": {
      "text/plain": [
       "F    5358\n",
       "M    4769\n",
       "Name: Gender, dtype: int64"
      ]
     },
     "execution_count": 12,
     "metadata": {},
     "output_type": "execute_result"
    }
   ],
   "source": [
    "# Examine Gender feature\n",
    "df.Gender.value_counts()"
   ]
  },
  {
   "cell_type": "markdown",
   "metadata": {},
   "source": [
    "#### 3.3 Education_Level"
   ]
  },
  {
   "cell_type": "code",
   "execution_count": 13,
   "metadata": {},
   "outputs": [
    {
     "data": {
      "text/plain": [
       "Graduate         3128\n",
       "High School      2013\n",
       "Unknown          1519\n",
       "Uneducated       1487\n",
       "College          1013\n",
       "Post-Graduate     516\n",
       "Doctorate         451\n",
       "Name: Education_Level, dtype: int64"
      ]
     },
     "execution_count": 13,
     "metadata": {},
     "output_type": "execute_result"
    }
   ],
   "source": [
    "# Examine Education_Level feature\n",
    "df.Education_Level.value_counts()"
   ]
  },
  {
   "cell_type": "code",
   "execution_count": 14,
   "metadata": {},
   "outputs": [
    {
     "data": {
      "text/html": [
       "<div>\n",
       "<style scoped>\n",
       "    .dataframe tbody tr th:only-of-type {\n",
       "        vertical-align: middle;\n",
       "    }\n",
       "\n",
       "    .dataframe tbody tr th {\n",
       "        vertical-align: top;\n",
       "    }\n",
       "\n",
       "    .dataframe thead th {\n",
       "        text-align: right;\n",
       "    }\n",
       "</style>\n",
       "<table border=\"1\" class=\"dataframe\">\n",
       "  <thead>\n",
       "    <tr style=\"text-align: right;\">\n",
       "      <th></th>\n",
       "      <th>4179</th>\n",
       "      <th>3320</th>\n",
       "      <th>3425</th>\n",
       "      <th>9907</th>\n",
       "      <th>5825</th>\n",
       "      <th>9437</th>\n",
       "      <th>155</th>\n",
       "      <th>7685</th>\n",
       "      <th>7744</th>\n",
       "      <th>262</th>\n",
       "    </tr>\n",
       "  </thead>\n",
       "  <tbody>\n",
       "    <tr>\n",
       "      <th>Attrition_Flag</th>\n",
       "      <td>Existing Customer</td>\n",
       "      <td>Attrited Customer</td>\n",
       "      <td>Existing Customer</td>\n",
       "      <td>Attrited Customer</td>\n",
       "      <td>Existing Customer</td>\n",
       "      <td>Existing Customer</td>\n",
       "      <td>Existing Customer</td>\n",
       "      <td>Existing Customer</td>\n",
       "      <td>Existing Customer</td>\n",
       "      <td>Existing Customer</td>\n",
       "    </tr>\n",
       "    <tr>\n",
       "      <th>Customer_Age</th>\n",
       "      <td>51</td>\n",
       "      <td>41</td>\n",
       "      <td>44</td>\n",
       "      <td>45</td>\n",
       "      <td>47</td>\n",
       "      <td>53</td>\n",
       "      <td>42</td>\n",
       "      <td>44</td>\n",
       "      <td>54</td>\n",
       "      <td>43</td>\n",
       "    </tr>\n",
       "    <tr>\n",
       "      <th>Gender</th>\n",
       "      <td>M</td>\n",
       "      <td>F</td>\n",
       "      <td>F</td>\n",
       "      <td>F</td>\n",
       "      <td>F</td>\n",
       "      <td>F</td>\n",
       "      <td>F</td>\n",
       "      <td>F</td>\n",
       "      <td>M</td>\n",
       "      <td>M</td>\n",
       "    </tr>\n",
       "    <tr>\n",
       "      <th>Dependent_count</th>\n",
       "      <td>3</td>\n",
       "      <td>3</td>\n",
       "      <td>2</td>\n",
       "      <td>3</td>\n",
       "      <td>3</td>\n",
       "      <td>2</td>\n",
       "      <td>5</td>\n",
       "      <td>3</td>\n",
       "      <td>4</td>\n",
       "      <td>4</td>\n",
       "    </tr>\n",
       "    <tr>\n",
       "      <th>Education_Level</th>\n",
       "      <td>Unknown</td>\n",
       "      <td>Unknown</td>\n",
       "      <td>Unknown</td>\n",
       "      <td>Unknown</td>\n",
       "      <td>Unknown</td>\n",
       "      <td>Unknown</td>\n",
       "      <td>Unknown</td>\n",
       "      <td>Unknown</td>\n",
       "      <td>Unknown</td>\n",
       "      <td>Unknown</td>\n",
       "    </tr>\n",
       "    <tr>\n",
       "      <th>Marital_Status</th>\n",
       "      <td>Single</td>\n",
       "      <td>Married</td>\n",
       "      <td>Married</td>\n",
       "      <td>Single</td>\n",
       "      <td>Single</td>\n",
       "      <td>Married</td>\n",
       "      <td>Married</td>\n",
       "      <td>Single</td>\n",
       "      <td>Married</td>\n",
       "      <td>Married</td>\n",
       "    </tr>\n",
       "    <tr>\n",
       "      <th>Income_Category</th>\n",
       "      <td>60K - 80K</td>\n",
       "      <td>Unknown</td>\n",
       "      <td>Less than 40K</td>\n",
       "      <td>Less than 40K</td>\n",
       "      <td>Less than 40K</td>\n",
       "      <td>40K - 60K</td>\n",
       "      <td>40K - 60K</td>\n",
       "      <td>Unknown</td>\n",
       "      <td>80K - 120K</td>\n",
       "      <td>60K - 80K</td>\n",
       "    </tr>\n",
       "    <tr>\n",
       "      <th>Card_Category</th>\n",
       "      <td>Silver</td>\n",
       "      <td>Blue</td>\n",
       "      <td>Blue</td>\n",
       "      <td>Blue</td>\n",
       "      <td>Blue</td>\n",
       "      <td>Blue</td>\n",
       "      <td>Blue</td>\n",
       "      <td>Blue</td>\n",
       "      <td>Blue</td>\n",
       "      <td>Blue</td>\n",
       "    </tr>\n",
       "    <tr>\n",
       "      <th>Months_on_book</th>\n",
       "      <td>45</td>\n",
       "      <td>35</td>\n",
       "      <td>30</td>\n",
       "      <td>36</td>\n",
       "      <td>38</td>\n",
       "      <td>48</td>\n",
       "      <td>36</td>\n",
       "      <td>33</td>\n",
       "      <td>42</td>\n",
       "      <td>35</td>\n",
       "    </tr>\n",
       "    <tr>\n",
       "      <th>Total_Relationship_Count</th>\n",
       "      <td>3</td>\n",
       "      <td>2</td>\n",
       "      <td>3</td>\n",
       "      <td>1</td>\n",
       "      <td>4</td>\n",
       "      <td>2</td>\n",
       "      <td>3</td>\n",
       "      <td>5</td>\n",
       "      <td>3</td>\n",
       "      <td>6</td>\n",
       "    </tr>\n",
       "    <tr>\n",
       "      <th>Months_Inactive_12_mon</th>\n",
       "      <td>2</td>\n",
       "      <td>3</td>\n",
       "      <td>1</td>\n",
       "      <td>2</td>\n",
       "      <td>2</td>\n",
       "      <td>3</td>\n",
       "      <td>3</td>\n",
       "      <td>3</td>\n",
       "      <td>3</td>\n",
       "      <td>3</td>\n",
       "    </tr>\n",
       "    <tr>\n",
       "      <th>Contacts_Count_12_mon</th>\n",
       "      <td>4</td>\n",
       "      <td>5</td>\n",
       "      <td>4</td>\n",
       "      <td>5</td>\n",
       "      <td>3</td>\n",
       "      <td>3</td>\n",
       "      <td>3</td>\n",
       "      <td>1</td>\n",
       "      <td>1</td>\n",
       "      <td>2</td>\n",
       "    </tr>\n",
       "    <tr>\n",
       "      <th>Credit_Limit</th>\n",
       "      <td>30899</td>\n",
       "      <td>11538</td>\n",
       "      <td>3734</td>\n",
       "      <td>7500</td>\n",
       "      <td>1438.3</td>\n",
       "      <td>4442</td>\n",
       "      <td>2038</td>\n",
       "      <td>8064</td>\n",
       "      <td>1621</td>\n",
       "      <td>24396</td>\n",
       "    </tr>\n",
       "    <tr>\n",
       "      <th>Total_Revolving_Bal</th>\n",
       "      <td>0</td>\n",
       "      <td>0</td>\n",
       "      <td>0</td>\n",
       "      <td>0</td>\n",
       "      <td>0</td>\n",
       "      <td>1107</td>\n",
       "      <td>0</td>\n",
       "      <td>2417</td>\n",
       "      <td>618</td>\n",
       "      <td>1171</td>\n",
       "    </tr>\n",
       "    <tr>\n",
       "      <th>Avg_Open_To_Buy</th>\n",
       "      <td>30899</td>\n",
       "      <td>11538</td>\n",
       "      <td>3734</td>\n",
       "      <td>7500</td>\n",
       "      <td>1438.3</td>\n",
       "      <td>3335</td>\n",
       "      <td>2038</td>\n",
       "      <td>5647</td>\n",
       "      <td>1003</td>\n",
       "      <td>23225</td>\n",
       "    </tr>\n",
       "    <tr>\n",
       "      <th>Total_Amt_Chng_Q4_Q1</th>\n",
       "      <td>0.502</td>\n",
       "      <td>0.507</td>\n",
       "      <td>0.954</td>\n",
       "      <td>0.576</td>\n",
       "      <td>1.001</td>\n",
       "      <td>0.822</td>\n",
       "      <td>0.786</td>\n",
       "      <td>0.644</td>\n",
       "      <td>0.846</td>\n",
       "      <td>0.655</td>\n",
       "    </tr>\n",
       "    <tr>\n",
       "      <th>Total_Trans_Amt</th>\n",
       "      <td>1481</td>\n",
       "      <td>1926</td>\n",
       "      <td>3144</td>\n",
       "      <td>8024</td>\n",
       "      <td>3511</td>\n",
       "      <td>14437</td>\n",
       "      <td>1238</td>\n",
       "      <td>4412</td>\n",
       "      <td>4815</td>\n",
       "      <td>965</td>\n",
       "    </tr>\n",
       "    <tr>\n",
       "      <th>Total_Trans_Ct</th>\n",
       "      <td>20</td>\n",
       "      <td>53</td>\n",
       "      <td>62</td>\n",
       "      <td>78</td>\n",
       "      <td>64</td>\n",
       "      <td>109</td>\n",
       "      <td>28</td>\n",
       "      <td>67</td>\n",
       "      <td>83</td>\n",
       "      <td>17</td>\n",
       "    </tr>\n",
       "    <tr>\n",
       "      <th>Total_Ct_Chng_Q4_Q1</th>\n",
       "      <td>0.333</td>\n",
       "      <td>0.432</td>\n",
       "      <td>0.722</td>\n",
       "      <td>0.696</td>\n",
       "      <td>0.882</td>\n",
       "      <td>0.912</td>\n",
       "      <td>0.75</td>\n",
       "      <td>0.861</td>\n",
       "      <td>1.024</td>\n",
       "      <td>1.125</td>\n",
       "    </tr>\n",
       "    <tr>\n",
       "      <th>Avg_Utilization_Ratio</th>\n",
       "      <td>0</td>\n",
       "      <td>0</td>\n",
       "      <td>0</td>\n",
       "      <td>0</td>\n",
       "      <td>0</td>\n",
       "      <td>0.249</td>\n",
       "      <td>0</td>\n",
       "      <td>0.3</td>\n",
       "      <td>0.381</td>\n",
       "      <td>0.048</td>\n",
       "    </tr>\n",
       "  </tbody>\n",
       "</table>\n",
       "</div>"
      ],
      "text/plain": [
       "                                       4179               3320  \\\n",
       "Attrition_Flag            Existing Customer  Attrited Customer   \n",
       "Customer_Age                             51                 41   \n",
       "Gender                                    M                  F   \n",
       "Dependent_count                           3                  3   \n",
       "Education_Level                     Unknown            Unknown   \n",
       "Marital_Status                       Single            Married   \n",
       "Income_Category                   60K - 80K            Unknown   \n",
       "Card_Category                        Silver               Blue   \n",
       "Months_on_book                           45                 35   \n",
       "Total_Relationship_Count                  3                  2   \n",
       "Months_Inactive_12_mon                    2                  3   \n",
       "Contacts_Count_12_mon                     4                  5   \n",
       "Credit_Limit                          30899              11538   \n",
       "Total_Revolving_Bal                       0                  0   \n",
       "Avg_Open_To_Buy                       30899              11538   \n",
       "Total_Amt_Chng_Q4_Q1                  0.502              0.507   \n",
       "Total_Trans_Amt                        1481               1926   \n",
       "Total_Trans_Ct                           20                 53   \n",
       "Total_Ct_Chng_Q4_Q1                   0.333              0.432   \n",
       "Avg_Utilization_Ratio                     0                  0   \n",
       "\n",
       "                                       3425               9907  \\\n",
       "Attrition_Flag            Existing Customer  Attrited Customer   \n",
       "Customer_Age                             44                 45   \n",
       "Gender                                    F                  F   \n",
       "Dependent_count                           2                  3   \n",
       "Education_Level                     Unknown            Unknown   \n",
       "Marital_Status                      Married             Single   \n",
       "Income_Category               Less than 40K      Less than 40K   \n",
       "Card_Category                          Blue               Blue   \n",
       "Months_on_book                           30                 36   \n",
       "Total_Relationship_Count                  3                  1   \n",
       "Months_Inactive_12_mon                    1                  2   \n",
       "Contacts_Count_12_mon                     4                  5   \n",
       "Credit_Limit                           3734               7500   \n",
       "Total_Revolving_Bal                       0                  0   \n",
       "Avg_Open_To_Buy                        3734               7500   \n",
       "Total_Amt_Chng_Q4_Q1                  0.954              0.576   \n",
       "Total_Trans_Amt                        3144               8024   \n",
       "Total_Trans_Ct                           62                 78   \n",
       "Total_Ct_Chng_Q4_Q1                   0.722              0.696   \n",
       "Avg_Utilization_Ratio                     0                  0   \n",
       "\n",
       "                                       5825               9437  \\\n",
       "Attrition_Flag            Existing Customer  Existing Customer   \n",
       "Customer_Age                             47                 53   \n",
       "Gender                                    F                  F   \n",
       "Dependent_count                           3                  2   \n",
       "Education_Level                     Unknown            Unknown   \n",
       "Marital_Status                       Single            Married   \n",
       "Income_Category               Less than 40K          40K - 60K   \n",
       "Card_Category                          Blue               Blue   \n",
       "Months_on_book                           38                 48   \n",
       "Total_Relationship_Count                  4                  2   \n",
       "Months_Inactive_12_mon                    2                  3   \n",
       "Contacts_Count_12_mon                     3                  3   \n",
       "Credit_Limit                         1438.3               4442   \n",
       "Total_Revolving_Bal                       0               1107   \n",
       "Avg_Open_To_Buy                      1438.3               3335   \n",
       "Total_Amt_Chng_Q4_Q1                  1.001              0.822   \n",
       "Total_Trans_Amt                        3511              14437   \n",
       "Total_Trans_Ct                           64                109   \n",
       "Total_Ct_Chng_Q4_Q1                   0.882              0.912   \n",
       "Avg_Utilization_Ratio                     0              0.249   \n",
       "\n",
       "                                       155                7685  \\\n",
       "Attrition_Flag            Existing Customer  Existing Customer   \n",
       "Customer_Age                             42                 44   \n",
       "Gender                                    F                  F   \n",
       "Dependent_count                           5                  3   \n",
       "Education_Level                     Unknown            Unknown   \n",
       "Marital_Status                      Married             Single   \n",
       "Income_Category                   40K - 60K            Unknown   \n",
       "Card_Category                          Blue               Blue   \n",
       "Months_on_book                           36                 33   \n",
       "Total_Relationship_Count                  3                  5   \n",
       "Months_Inactive_12_mon                    3                  3   \n",
       "Contacts_Count_12_mon                     3                  1   \n",
       "Credit_Limit                           2038               8064   \n",
       "Total_Revolving_Bal                       0               2417   \n",
       "Avg_Open_To_Buy                        2038               5647   \n",
       "Total_Amt_Chng_Q4_Q1                  0.786              0.644   \n",
       "Total_Trans_Amt                        1238               4412   \n",
       "Total_Trans_Ct                           28                 67   \n",
       "Total_Ct_Chng_Q4_Q1                    0.75              0.861   \n",
       "Avg_Utilization_Ratio                     0                0.3   \n",
       "\n",
       "                                       7744               262   \n",
       "Attrition_Flag            Existing Customer  Existing Customer  \n",
       "Customer_Age                             54                 43  \n",
       "Gender                                    M                  M  \n",
       "Dependent_count                           4                  4  \n",
       "Education_Level                     Unknown            Unknown  \n",
       "Marital_Status                      Married            Married  \n",
       "Income_Category                  80K - 120K          60K - 80K  \n",
       "Card_Category                          Blue               Blue  \n",
       "Months_on_book                           42                 35  \n",
       "Total_Relationship_Count                  3                  6  \n",
       "Months_Inactive_12_mon                    3                  3  \n",
       "Contacts_Count_12_mon                     1                  2  \n",
       "Credit_Limit                           1621              24396  \n",
       "Total_Revolving_Bal                     618               1171  \n",
       "Avg_Open_To_Buy                        1003              23225  \n",
       "Total_Amt_Chng_Q4_Q1                  0.846              0.655  \n",
       "Total_Trans_Amt                        4815                965  \n",
       "Total_Trans_Ct                           83                 17  \n",
       "Total_Ct_Chng_Q4_Q1                   1.024              1.125  \n",
       "Avg_Utilization_Ratio                 0.381              0.048  "
      ]
     },
     "execution_count": 14,
     "metadata": {},
     "output_type": "execute_result"
    }
   ],
   "source": [
    "# Examine Unkown value; looks like values were missing randomly\n",
    "df[df.Education_Level == 'Unknown'].sample(10).T"
   ]
  },
  {
   "cell_type": "code",
   "execution_count": 15,
   "metadata": {},
   "outputs": [
    {
     "data": {
      "text/plain": [
       "Existing Customer    1263\n",
       "Attrited Customer     256\n",
       "Name: Attrition_Flag, dtype: int64"
      ]
     },
     "execution_count": 15,
     "metadata": {},
     "output_type": "execute_result"
    }
   ],
   "source": [
    "# Missing value on target feature\n",
    "df.loc[df.Education_Level == 'Unknown', 'Attrition_Flag'].value_counts()"
   ]
  },
  {
   "cell_type": "code",
   "execution_count": 16,
   "metadata": {},
   "outputs": [
    {
     "data": {
      "image/png": "[encoded data removed]",
      "text/plain": [
       "<Figure size 432x288 with 1 Axes>"
      ]
     },
     "metadata": {
      "needs_background": "light"
     },
     "output_type": "display_data"
    }
   ],
   "source": [
    "# Examine relationship between Education_Level and Attrited Customer by percentage graph\n",
    "# It seems like Doctorate and Post-Graduate have higher chance of churning\n",
    "edu_pct = (df.groupby(['Education_Level', 'Attrition_Flag']).size() / df.groupby('Education_Level').size()).reset_index().rename({0:'percent'}, axis=1)\n",
    "sns.barplot(x='Attrition_Flag', hue='Education_Level', y='percent', data=edu_pct)\n",
    "plt.show()"
   ]
  },
  {
   "cell_type": "code",
   "execution_count": 17,
   "metadata": {},
   "outputs": [],
   "source": [
    "# Replace Unknown value with NaN for next stage of analysis\n",
    "df.Education_Level = df.Education_Level.replace('Unknown', np.nan)"
   ]
  },
  {
   "cell_type": "markdown",
   "metadata": {},
   "source": [
    "#### 3.4 Marital_Status"
   ]
  },
  {
   "cell_type": "code",
   "execution_count": 18,
   "metadata": {},
   "outputs": [
    {
     "data": {
      "text/plain": [
       "Married     4687\n",
       "Single      3943\n",
       "Unknown      749\n",
       "Divorced     748\n",
       "Name: Marital_Status, dtype: int64"
      ]
     },
     "execution_count": 18,
     "metadata": {},
     "output_type": "execute_result"
    }
   ],
   "source": [
    "#Examine Marital_Status feature\n",
    "df.Marital_Status.value_counts()"
   ]
  },
  {
   "cell_type": "code",
   "execution_count": 19,
   "metadata": {},
   "outputs": [
    {
     "data": {
      "text/html": [
       "<div>\n",
       "<style scoped>\n",
       "    .dataframe tbody tr th:only-of-type {\n",
       "        vertical-align: middle;\n",
       "    }\n",
       "\n",
       "    .dataframe tbody tr th {\n",
       "        vertical-align: top;\n",
       "    }\n",
       "\n",
       "    .dataframe thead th {\n",
       "        text-align: right;\n",
       "    }\n",
       "</style>\n",
       "<table border=\"1\" class=\"dataframe\">\n",
       "  <thead>\n",
       "    <tr style=\"text-align: right;\">\n",
       "      <th></th>\n",
       "      <th>5060</th>\n",
       "      <th>7787</th>\n",
       "      <th>4896</th>\n",
       "      <th>6644</th>\n",
       "      <th>8842</th>\n",
       "      <th>4520</th>\n",
       "      <th>8243</th>\n",
       "      <th>6191</th>\n",
       "      <th>6587</th>\n",
       "      <th>9111</th>\n",
       "    </tr>\n",
       "  </thead>\n",
       "  <tbody>\n",
       "    <tr>\n",
       "      <th>Attrition_Flag</th>\n",
       "      <td>Existing Customer</td>\n",
       "      <td>Existing Customer</td>\n",
       "      <td>Existing Customer</td>\n",
       "      <td>Attrited Customer</td>\n",
       "      <td>Existing Customer</td>\n",
       "      <td>Existing Customer</td>\n",
       "      <td>Existing Customer</td>\n",
       "      <td>Existing Customer</td>\n",
       "      <td>Existing Customer</td>\n",
       "      <td>Existing Customer</td>\n",
       "    </tr>\n",
       "    <tr>\n",
       "      <th>Customer_Age</th>\n",
       "      <td>60</td>\n",
       "      <td>44</td>\n",
       "      <td>53</td>\n",
       "      <td>47</td>\n",
       "      <td>45</td>\n",
       "      <td>49</td>\n",
       "      <td>45</td>\n",
       "      <td>47</td>\n",
       "      <td>61</td>\n",
       "      <td>51</td>\n",
       "    </tr>\n",
       "    <tr>\n",
       "      <th>Gender</th>\n",
       "      <td>M</td>\n",
       "      <td>F</td>\n",
       "      <td>M</td>\n",
       "      <td>F</td>\n",
       "      <td>M</td>\n",
       "      <td>F</td>\n",
       "      <td>M</td>\n",
       "      <td>M</td>\n",
       "      <td>F</td>\n",
       "      <td>M</td>\n",
       "    </tr>\n",
       "    <tr>\n",
       "      <th>Dependent_count</th>\n",
       "      <td>0</td>\n",
       "      <td>4</td>\n",
       "      <td>4</td>\n",
       "      <td>1</td>\n",
       "      <td>5</td>\n",
       "      <td>1</td>\n",
       "      <td>2</td>\n",
       "      <td>3</td>\n",
       "      <td>1</td>\n",
       "      <td>0</td>\n",
       "    </tr>\n",
       "    <tr>\n",
       "      <th>Education_Level</th>\n",
       "      <td>Doctorate</td>\n",
       "      <td>Post-Graduate</td>\n",
       "      <td>College</td>\n",
       "      <td>High School</td>\n",
       "      <td>High School</td>\n",
       "      <td>Uneducated</td>\n",
       "      <td>College</td>\n",
       "      <td>Uneducated</td>\n",
       "      <td>Graduate</td>\n",
       "      <td>High School</td>\n",
       "    </tr>\n",
       "    <tr>\n",
       "      <th>Marital_Status</th>\n",
       "      <td>Unknown</td>\n",
       "      <td>Unknown</td>\n",
       "      <td>Unknown</td>\n",
       "      <td>Unknown</td>\n",
       "      <td>Unknown</td>\n",
       "      <td>Unknown</td>\n",
       "      <td>Unknown</td>\n",
       "      <td>Unknown</td>\n",
       "      <td>Unknown</td>\n",
       "      <td>Unknown</td>\n",
       "    </tr>\n",
       "    <tr>\n",
       "      <th>Income_Category</th>\n",
       "      <td>40K - 60K</td>\n",
       "      <td>Less than 40K</td>\n",
       "      <td>60K - 80K</td>\n",
       "      <td>Less than 40K</td>\n",
       "      <td>60K - 80K</td>\n",
       "      <td>Less than 40K</td>\n",
       "      <td>40K - 60K</td>\n",
       "      <td>40K - 60K</td>\n",
       "      <td>40K - 60K</td>\n",
       "      <td>80K - 120K</td>\n",
       "    </tr>\n",
       "    <tr>\n",
       "      <th>Card_Category</th>\n",
       "      <td>Silver</td>\n",
       "      <td>Blue</td>\n",
       "      <td>Blue</td>\n",
       "      <td>Blue</td>\n",
       "      <td>Blue</td>\n",
       "      <td>Blue</td>\n",
       "      <td>Blue</td>\n",
       "      <td>Blue</td>\n",
       "      <td>Blue</td>\n",
       "      <td>Blue</td>\n",
       "    </tr>\n",
       "    <tr>\n",
       "      <th>Months_on_book</th>\n",
       "      <td>53</td>\n",
       "      <td>36</td>\n",
       "      <td>44</td>\n",
       "      <td>41</td>\n",
       "      <td>25</td>\n",
       "      <td>38</td>\n",
       "      <td>36</td>\n",
       "      <td>36</td>\n",
       "      <td>55</td>\n",
       "      <td>44</td>\n",
       "    </tr>\n",
       "    <tr>\n",
       "      <th>Total_Relationship_Count</th>\n",
       "      <td>4</td>\n",
       "      <td>3</td>\n",
       "      <td>5</td>\n",
       "      <td>6</td>\n",
       "      <td>1</td>\n",
       "      <td>6</td>\n",
       "      <td>1</td>\n",
       "      <td>3</td>\n",
       "      <td>4</td>\n",
       "      <td>2</td>\n",
       "    </tr>\n",
       "    <tr>\n",
       "      <th>Months_Inactive_12_mon</th>\n",
       "      <td>2</td>\n",
       "      <td>1</td>\n",
       "      <td>3</td>\n",
       "      <td>3</td>\n",
       "      <td>5</td>\n",
       "      <td>2</td>\n",
       "      <td>1</td>\n",
       "      <td>3</td>\n",
       "      <td>3</td>\n",
       "      <td>2</td>\n",
       "    </tr>\n",
       "    <tr>\n",
       "      <th>Contacts_Count_12_mon</th>\n",
       "      <td>1</td>\n",
       "      <td>1</td>\n",
       "      <td>1</td>\n",
       "      <td>2</td>\n",
       "      <td>1</td>\n",
       "      <td>1</td>\n",
       "      <td>1</td>\n",
       "      <td>3</td>\n",
       "      <td>3</td>\n",
       "      <td>3</td>\n",
       "    </tr>\n",
       "    <tr>\n",
       "      <th>Credit_Limit</th>\n",
       "      <td>16541</td>\n",
       "      <td>7317</td>\n",
       "      <td>7026</td>\n",
       "      <td>3654</td>\n",
       "      <td>12399</td>\n",
       "      <td>3343</td>\n",
       "      <td>4718</td>\n",
       "      <td>10960</td>\n",
       "      <td>1438.3</td>\n",
       "      <td>22741</td>\n",
       "    </tr>\n",
       "    <tr>\n",
       "      <th>Total_Revolving_Bal</th>\n",
       "      <td>1428</td>\n",
       "      <td>1540</td>\n",
       "      <td>1728</td>\n",
       "      <td>0</td>\n",
       "      <td>1461</td>\n",
       "      <td>1820</td>\n",
       "      <td>1591</td>\n",
       "      <td>1333</td>\n",
       "      <td>0</td>\n",
       "      <td>2176</td>\n",
       "    </tr>\n",
       "    <tr>\n",
       "      <th>Avg_Open_To_Buy</th>\n",
       "      <td>15113</td>\n",
       "      <td>5777</td>\n",
       "      <td>5298</td>\n",
       "      <td>3654</td>\n",
       "      <td>10938</td>\n",
       "      <td>1523</td>\n",
       "      <td>3127</td>\n",
       "      <td>9627</td>\n",
       "      <td>1438.3</td>\n",
       "      <td>20565</td>\n",
       "    </tr>\n",
       "    <tr>\n",
       "      <th>Total_Amt_Chng_Q4_Q1</th>\n",
       "      <td>0.846</td>\n",
       "      <td>0.616</td>\n",
       "      <td>0.669</td>\n",
       "      <td>0.63</td>\n",
       "      <td>0.645</td>\n",
       "      <td>0.727</td>\n",
       "      <td>0.927</td>\n",
       "      <td>0.678</td>\n",
       "      <td>0.573</td>\n",
       "      <td>0.689</td>\n",
       "    </tr>\n",
       "    <tr>\n",
       "      <th>Total_Trans_Amt</th>\n",
       "      <td>4352</td>\n",
       "      <td>4100</td>\n",
       "      <td>3935</td>\n",
       "      <td>1998</td>\n",
       "      <td>7855</td>\n",
       "      <td>4507</td>\n",
       "      <td>4598</td>\n",
       "      <td>3480</td>\n",
       "      <td>4518</td>\n",
       "      <td>8438</td>\n",
       "    </tr>\n",
       "    <tr>\n",
       "      <th>Total_Trans_Ct</th>\n",
       "      <td>82</td>\n",
       "      <td>76</td>\n",
       "      <td>66</td>\n",
       "      <td>44</td>\n",
       "      <td>82</td>\n",
       "      <td>63</td>\n",
       "      <td>80</td>\n",
       "      <td>62</td>\n",
       "      <td>81</td>\n",
       "      <td>100</td>\n",
       "    </tr>\n",
       "    <tr>\n",
       "      <th>Total_Ct_Chng_Q4_Q1</th>\n",
       "      <td>0.907</td>\n",
       "      <td>0.81</td>\n",
       "      <td>1</td>\n",
       "      <td>0.467</td>\n",
       "      <td>0.414</td>\n",
       "      <td>0.703</td>\n",
       "      <td>1</td>\n",
       "      <td>0.632</td>\n",
       "      <td>0.723</td>\n",
       "      <td>0.887</td>\n",
       "    </tr>\n",
       "    <tr>\n",
       "      <th>Avg_Utilization_Ratio</th>\n",
       "      <td>0.086</td>\n",
       "      <td>0.21</td>\n",
       "      <td>0.246</td>\n",
       "      <td>0</td>\n",
       "      <td>0.118</td>\n",
       "      <td>0.544</td>\n",
       "      <td>0.337</td>\n",
       "      <td>0.122</td>\n",
       "      <td>0</td>\n",
       "      <td>0.096</td>\n",
       "    </tr>\n",
       "  </tbody>\n",
       "</table>\n",
       "</div>"
      ],
      "text/plain": [
       "                                       5060               7787  \\\n",
       "Attrition_Flag            Existing Customer  Existing Customer   \n",
       "Customer_Age                             60                 44   \n",
       "Gender                                    M                  F   \n",
       "Dependent_count                           0                  4   \n",
       "Education_Level                   Doctorate      Post-Graduate   \n",
       "Marital_Status                      Unknown            Unknown   \n",
       "Income_Category                   40K - 60K      Less than 40K   \n",
       "Card_Category                        Silver               Blue   \n",
       "Months_on_book                           53                 36   \n",
       "Total_Relationship_Count                  4                  3   \n",
       "Months_Inactive_12_mon                    2                  1   \n",
       "Contacts_Count_12_mon                     1                  1   \n",
       "Credit_Limit                          16541               7317   \n",
       "Total_Revolving_Bal                    1428               1540   \n",
       "Avg_Open_To_Buy                       15113               5777   \n",
       "Total_Amt_Chng_Q4_Q1                  0.846              0.616   \n",
       "Total_Trans_Amt                        4352               4100   \n",
       "Total_Trans_Ct                           82                 76   \n",
       "Total_Ct_Chng_Q4_Q1                   0.907               0.81   \n",
       "Avg_Utilization_Ratio                 0.086               0.21   \n",
       "\n",
       "                                       4896               6644  \\\n",
       "Attrition_Flag            Existing Customer  Attrited Customer   \n",
       "Customer_Age                             53                 47   \n",
       "Gender                                    M                  F   \n",
       "Dependent_count                           4                  1   \n",
       "Education_Level                     College        High School   \n",
       "Marital_Status                      Unknown            Unknown   \n",
       "Income_Category                   60K - 80K      Less than 40K   \n",
       "Card_Category                          Blue               Blue   \n",
       "Months_on_book                           44                 41   \n",
       "Total_Relationship_Count                  5                  6   \n",
       "Months_Inactive_12_mon                    3                  3   \n",
       "Contacts_Count_12_mon                     1                  2   \n",
       "Credit_Limit                           7026               3654   \n",
       "Total_Revolving_Bal                    1728                  0   \n",
       "Avg_Open_To_Buy                        5298               3654   \n",
       "Total_Amt_Chng_Q4_Q1                  0.669               0.63   \n",
       "Total_Trans_Amt                        3935               1998   \n",
       "Total_Trans_Ct                           66                 44   \n",
       "Total_Ct_Chng_Q4_Q1                       1              0.467   \n",
       "Avg_Utilization_Ratio                 0.246                  0   \n",
       "\n",
       "                                       8842               4520  \\\n",
       "Attrition_Flag            Existing Customer  Existing Customer   \n",
       "Customer_Age                             45                 49   \n",
       "Gender                                    M                  F   \n",
       "Dependent_count                           5                  1   \n",
       "Education_Level                 High School         Uneducated   \n",
       "Marital_Status                      Unknown            Unknown   \n",
       "Income_Category                   60K - 80K      Less than 40K   \n",
       "Card_Category                          Blue               Blue   \n",
       "Months_on_book                           25                 38   \n",
       "Total_Relationship_Count                  1                  6   \n",
       "Months_Inactive_12_mon                    5                  2   \n",
       "Contacts_Count_12_mon                     1                  1   \n",
       "Credit_Limit                          12399               3343   \n",
       "Total_Revolving_Bal                    1461               1820   \n",
       "Avg_Open_To_Buy                       10938               1523   \n",
       "Total_Amt_Chng_Q4_Q1                  0.645              0.727   \n",
       "Total_Trans_Amt                        7855               4507   \n",
       "Total_Trans_Ct                           82                 63   \n",
       "Total_Ct_Chng_Q4_Q1                   0.414              0.703   \n",
       "Avg_Utilization_Ratio                 0.118              0.544   \n",
       "\n",
       "                                       8243               6191  \\\n",
       "Attrition_Flag            Existing Customer  Existing Customer   \n",
       "Customer_Age                             45                 47   \n",
       "Gender                                    M                  M   \n",
       "Dependent_count                           2                  3   \n",
       "Education_Level                     College         Uneducated   \n",
       "Marital_Status                      Unknown            Unknown   \n",
       "Income_Category                   40K - 60K          40K - 60K   \n",
       "Card_Category                          Blue               Blue   \n",
       "Months_on_book                           36                 36   \n",
       "Total_Relationship_Count                  1                  3   \n",
       "Months_Inactive_12_mon                    1                  3   \n",
       "Contacts_Count_12_mon                     1                  3   \n",
       "Credit_Limit                           4718              10960   \n",
       "Total_Revolving_Bal                    1591               1333   \n",
       "Avg_Open_To_Buy                        3127               9627   \n",
       "Total_Amt_Chng_Q4_Q1                  0.927              0.678   \n",
       "Total_Trans_Amt                        4598               3480   \n",
       "Total_Trans_Ct                           80                 62   \n",
       "Total_Ct_Chng_Q4_Q1                       1              0.632   \n",
       "Avg_Utilization_Ratio                 0.337              0.122   \n",
       "\n",
       "                                       6587               9111  \n",
       "Attrition_Flag            Existing Customer  Existing Customer  \n",
       "Customer_Age                             61                 51  \n",
       "Gender                                    F                  M  \n",
       "Dependent_count                           1                  0  \n",
       "Education_Level                    Graduate        High School  \n",
       "Marital_Status                      Unknown            Unknown  \n",
       "Income_Category                   40K - 60K         80K - 120K  \n",
       "Card_Category                          Blue               Blue  \n",
       "Months_on_book                           55                 44  \n",
       "Total_Relationship_Count                  4                  2  \n",
       "Months_Inactive_12_mon                    3                  2  \n",
       "Contacts_Count_12_mon                     3                  3  \n",
       "Credit_Limit                         1438.3              22741  \n",
       "Total_Revolving_Bal                       0               2176  \n",
       "Avg_Open_To_Buy                      1438.3              20565  \n",
       "Total_Amt_Chng_Q4_Q1                  0.573              0.689  \n",
       "Total_Trans_Amt                        4518               8438  \n",
       "Total_Trans_Ct                           81                100  \n",
       "Total_Ct_Chng_Q4_Q1                   0.723              0.887  \n",
       "Avg_Utilization_Ratio                     0              0.096  "
      ]
     },
     "execution_count": 19,
     "metadata": {},
     "output_type": "execute_result"
    }
   ],
   "source": [
    "# Examine Unkown value; looks like values were missing randomly\n",
    "df[df.Marital_Status == 'Unknown'].sample(10).T"
   ]
  },
  {
   "cell_type": "code",
   "execution_count": 20,
   "metadata": {},
   "outputs": [
    {
     "data": {
      "text/plain": [
       "Existing Customer    620\n",
       "Attrited Customer    129\n",
       "Name: Attrition_Flag, dtype: int64"
      ]
     },
     "execution_count": 20,
     "metadata": {},
     "output_type": "execute_result"
    }
   ],
   "source": [
    "# Missing value on target feature\n",
    "df.loc[df.Marital_Status == 'Unknown', 'Attrition_Flag'].value_counts()"
   ]
  },
  {
   "cell_type": "code",
   "execution_count": 21,
   "metadata": {},
   "outputs": [
    {
     "data": {
      "image/png": "[encoded data removed]",
      "text/plain": [
       "<Figure size 432x288 with 1 Axes>"
      ]
     },
     "metadata": {
      "needs_background": "light"
     },
     "output_type": "display_data"
    }
   ],
   "source": [
    "# Examine relationship between Marital_Status and Attrited Customer by percentage graph\n",
    "# It seems like Married customers have higher chance of churning\n",
    "mar_pct = (df.groupby(['Marital_Status', 'Attrition_Flag']).size() / df.groupby('Marital_Status').size()).reset_index().rename({0:'percent'}, axis=1)\n",
    "sns.barplot(x='Attrition_Flag', hue='Marital_Status', y='percent', data=mar_pct)\n",
    "plt.show()"
   ]
  },
  {
   "cell_type": "code",
   "execution_count": 22,
   "metadata": {},
   "outputs": [],
   "source": [
    "# Replace Unknown value with NaN for next stage of analysis\n",
    "df.Marital_Status = df.Marital_Status.replace('Unknown', np.nan)"
   ]
  },
  {
   "cell_type": "markdown",
   "metadata": {},
   "source": [
    "#### 3.5 Income_Category"
   ]
  },
  {
   "cell_type": "code",
   "execution_count": 23,
   "metadata": {},
   "outputs": [
    {
     "data": {
      "text/plain": [
       "Less than 40K    3561\n",
       "40K - 60K        1790\n",
       "80K - 120K       1535\n",
       "60K - 80K        1402\n",
       "Unknown          1112\n",
       "120K +            727\n",
       "Name: Income_Category, dtype: int64"
      ]
     },
     "execution_count": 23,
     "metadata": {},
     "output_type": "execute_result"
    }
   ],
   "source": [
    "#Examine Income_Category feature\n",
    "df.Income_Category.value_counts()"
   ]
  },
  {
   "cell_type": "code",
   "execution_count": 24,
   "metadata": {},
   "outputs": [
    {
     "data": {
      "text/html": [
       "<div>\n",
       "<style scoped>\n",
       "    .dataframe tbody tr th:only-of-type {\n",
       "        vertical-align: middle;\n",
       "    }\n",
       "\n",
       "    .dataframe tbody tr th {\n",
       "        vertical-align: top;\n",
       "    }\n",
       "\n",
       "    .dataframe thead th {\n",
       "        text-align: right;\n",
       "    }\n",
       "</style>\n",
       "<table border=\"1\" class=\"dataframe\">\n",
       "  <thead>\n",
       "    <tr style=\"text-align: right;\">\n",
       "      <th></th>\n",
       "      <th>7727</th>\n",
       "      <th>3391</th>\n",
       "      <th>6413</th>\n",
       "      <th>6024</th>\n",
       "      <th>3129</th>\n",
       "      <th>4189</th>\n",
       "      <th>8820</th>\n",
       "      <th>4223</th>\n",
       "      <th>8486</th>\n",
       "      <th>877</th>\n",
       "    </tr>\n",
       "  </thead>\n",
       "  <tbody>\n",
       "    <tr>\n",
       "      <th>Attrition_Flag</th>\n",
       "      <td>Attrited Customer</td>\n",
       "      <td>Existing Customer</td>\n",
       "      <td>Existing Customer</td>\n",
       "      <td>Existing Customer</td>\n",
       "      <td>Existing Customer</td>\n",
       "      <td>Attrited Customer</td>\n",
       "      <td>Attrited Customer</td>\n",
       "      <td>Existing Customer</td>\n",
       "      <td>Attrited Customer</td>\n",
       "      <td>Existing Customer</td>\n",
       "    </tr>\n",
       "    <tr>\n",
       "      <th>Customer_Age</th>\n",
       "      <td>44</td>\n",
       "      <td>45</td>\n",
       "      <td>43</td>\n",
       "      <td>34</td>\n",
       "      <td>53</td>\n",
       "      <td>45</td>\n",
       "      <td>47</td>\n",
       "      <td>41</td>\n",
       "      <td>39</td>\n",
       "      <td>42</td>\n",
       "    </tr>\n",
       "    <tr>\n",
       "      <th>Gender</th>\n",
       "      <td>F</td>\n",
       "      <td>F</td>\n",
       "      <td>F</td>\n",
       "      <td>F</td>\n",
       "      <td>F</td>\n",
       "      <td>F</td>\n",
       "      <td>F</td>\n",
       "      <td>F</td>\n",
       "      <td>F</td>\n",
       "      <td>F</td>\n",
       "    </tr>\n",
       "    <tr>\n",
       "      <th>Dependent_count</th>\n",
       "      <td>4</td>\n",
       "      <td>2</td>\n",
       "      <td>3</td>\n",
       "      <td>1</td>\n",
       "      <td>1</td>\n",
       "      <td>3</td>\n",
       "      <td>4</td>\n",
       "      <td>3</td>\n",
       "      <td>3</td>\n",
       "      <td>2</td>\n",
       "    </tr>\n",
       "    <tr>\n",
       "      <th>Education_Level</th>\n",
       "      <td>Uneducated</td>\n",
       "      <td>Doctorate</td>\n",
       "      <td>High School</td>\n",
       "      <td>Graduate</td>\n",
       "      <td>College</td>\n",
       "      <td>High School</td>\n",
       "      <td>College</td>\n",
       "      <td>College</td>\n",
       "      <td>Graduate</td>\n",
       "      <td>Graduate</td>\n",
       "    </tr>\n",
       "    <tr>\n",
       "      <th>Marital_Status</th>\n",
       "      <td>Single</td>\n",
       "      <td>Single</td>\n",
       "      <td>Married</td>\n",
       "      <td>Single</td>\n",
       "      <td>Divorced</td>\n",
       "      <td>Single</td>\n",
       "      <td>Divorced</td>\n",
       "      <td>Single</td>\n",
       "      <td>Married</td>\n",
       "      <td>Married</td>\n",
       "    </tr>\n",
       "    <tr>\n",
       "      <th>Income_Category</th>\n",
       "      <td>Unknown</td>\n",
       "      <td>Unknown</td>\n",
       "      <td>Unknown</td>\n",
       "      <td>Unknown</td>\n",
       "      <td>Unknown</td>\n",
       "      <td>Unknown</td>\n",
       "      <td>Unknown</td>\n",
       "      <td>Unknown</td>\n",
       "      <td>Unknown</td>\n",
       "      <td>Unknown</td>\n",
       "    </tr>\n",
       "    <tr>\n",
       "      <th>Card_Category</th>\n",
       "      <td>Blue</td>\n",
       "      <td>Blue</td>\n",
       "      <td>Blue</td>\n",
       "      <td>Blue</td>\n",
       "      <td>Blue</td>\n",
       "      <td>Blue</td>\n",
       "      <td>Blue</td>\n",
       "      <td>Blue</td>\n",
       "      <td>Blue</td>\n",
       "      <td>Blue</td>\n",
       "    </tr>\n",
       "    <tr>\n",
       "      <th>Months_on_book</th>\n",
       "      <td>36</td>\n",
       "      <td>36</td>\n",
       "      <td>31</td>\n",
       "      <td>21</td>\n",
       "      <td>36</td>\n",
       "      <td>35</td>\n",
       "      <td>36</td>\n",
       "      <td>36</td>\n",
       "      <td>26</td>\n",
       "      <td>33</td>\n",
       "    </tr>\n",
       "    <tr>\n",
       "      <th>Total_Relationship_Count</th>\n",
       "      <td>3</td>\n",
       "      <td>4</td>\n",
       "      <td>3</td>\n",
       "      <td>6</td>\n",
       "      <td>3</td>\n",
       "      <td>3</td>\n",
       "      <td>4</td>\n",
       "      <td>4</td>\n",
       "      <td>2</td>\n",
       "      <td>6</td>\n",
       "    </tr>\n",
       "    <tr>\n",
       "      <th>Months_Inactive_12_mon</th>\n",
       "      <td>3</td>\n",
       "      <td>2</td>\n",
       "      <td>3</td>\n",
       "      <td>1</td>\n",
       "      <td>1</td>\n",
       "      <td>2</td>\n",
       "      <td>3</td>\n",
       "      <td>2</td>\n",
       "      <td>2</td>\n",
       "      <td>1</td>\n",
       "    </tr>\n",
       "    <tr>\n",
       "      <th>Contacts_Count_12_mon</th>\n",
       "      <td>4</td>\n",
       "      <td>4</td>\n",
       "      <td>1</td>\n",
       "      <td>3</td>\n",
       "      <td>3</td>\n",
       "      <td>6</td>\n",
       "      <td>3</td>\n",
       "      <td>4</td>\n",
       "      <td>3</td>\n",
       "      <td>1</td>\n",
       "    </tr>\n",
       "    <tr>\n",
       "      <th>Credit_Limit</th>\n",
       "      <td>8075</td>\n",
       "      <td>7738</td>\n",
       "      <td>2692</td>\n",
       "      <td>6376</td>\n",
       "      <td>17054</td>\n",
       "      <td>3512</td>\n",
       "      <td>6769</td>\n",
       "      <td>4210</td>\n",
       "      <td>4376</td>\n",
       "      <td>13770</td>\n",
       "    </tr>\n",
       "    <tr>\n",
       "      <th>Total_Revolving_Bal</th>\n",
       "      <td>317</td>\n",
       "      <td>947</td>\n",
       "      <td>2039</td>\n",
       "      <td>1322</td>\n",
       "      <td>0</td>\n",
       "      <td>2517</td>\n",
       "      <td>274</td>\n",
       "      <td>1597</td>\n",
       "      <td>855</td>\n",
       "      <td>2517</td>\n",
       "    </tr>\n",
       "    <tr>\n",
       "      <th>Avg_Open_To_Buy</th>\n",
       "      <td>7758</td>\n",
       "      <td>6791</td>\n",
       "      <td>653</td>\n",
       "      <td>5054</td>\n",
       "      <td>17054</td>\n",
       "      <td>995</td>\n",
       "      <td>6495</td>\n",
       "      <td>2613</td>\n",
       "      <td>3521</td>\n",
       "      <td>11253</td>\n",
       "    </tr>\n",
       "    <tr>\n",
       "      <th>Total_Amt_Chng_Q4_Q1</th>\n",
       "      <td>0.585</td>\n",
       "      <td>0.845</td>\n",
       "      <td>0.853</td>\n",
       "      <td>0.709</td>\n",
       "      <td>0.673</td>\n",
       "      <td>0.597</td>\n",
       "      <td>0.998</td>\n",
       "      <td>0.733</td>\n",
       "      <td>0.839</td>\n",
       "      <td>0.788</td>\n",
       "    </tr>\n",
       "    <tr>\n",
       "      <th>Total_Trans_Amt</th>\n",
       "      <td>2415</td>\n",
       "      <td>4255</td>\n",
       "      <td>4622</td>\n",
       "      <td>5192</td>\n",
       "      <td>4659</td>\n",
       "      <td>1801</td>\n",
       "      <td>4885</td>\n",
       "      <td>4342</td>\n",
       "      <td>2862</td>\n",
       "      <td>1582</td>\n",
       "    </tr>\n",
       "    <tr>\n",
       "      <th>Total_Trans_Ct</th>\n",
       "      <td>41</td>\n",
       "      <td>61</td>\n",
       "      <td>73</td>\n",
       "      <td>70</td>\n",
       "      <td>72</td>\n",
       "      <td>48</td>\n",
       "      <td>54</td>\n",
       "      <td>72</td>\n",
       "      <td>52</td>\n",
       "      <td>36</td>\n",
       "    </tr>\n",
       "    <tr>\n",
       "      <th>Total_Ct_Chng_Q4_Q1</th>\n",
       "      <td>0.577</td>\n",
       "      <td>0.694</td>\n",
       "      <td>0.78</td>\n",
       "      <td>0.628</td>\n",
       "      <td>0.6</td>\n",
       "      <td>0.548</td>\n",
       "      <td>0.35</td>\n",
       "      <td>0.674</td>\n",
       "      <td>0.733</td>\n",
       "      <td>0.385</td>\n",
       "    </tr>\n",
       "    <tr>\n",
       "      <th>Avg_Utilization_Ratio</th>\n",
       "      <td>0.039</td>\n",
       "      <td>0.122</td>\n",
       "      <td>0.757</td>\n",
       "      <td>0.207</td>\n",
       "      <td>0</td>\n",
       "      <td>0.717</td>\n",
       "      <td>0.04</td>\n",
       "      <td>0.379</td>\n",
       "      <td>0.195</td>\n",
       "      <td>0.183</td>\n",
       "    </tr>\n",
       "  </tbody>\n",
       "</table>\n",
       "</div>"
      ],
      "text/plain": [
       "                                       7727               3391  \\\n",
       "Attrition_Flag            Attrited Customer  Existing Customer   \n",
       "Customer_Age                             44                 45   \n",
       "Gender                                    F                  F   \n",
       "Dependent_count                           4                  2   \n",
       "Education_Level                  Uneducated          Doctorate   \n",
       "Marital_Status                       Single             Single   \n",
       "Income_Category                     Unknown            Unknown   \n",
       "Card_Category                          Blue               Blue   \n",
       "Months_on_book                           36                 36   \n",
       "Total_Relationship_Count                  3                  4   \n",
       "Months_Inactive_12_mon                    3                  2   \n",
       "Contacts_Count_12_mon                     4                  4   \n",
       "Credit_Limit                           8075               7738   \n",
       "Total_Revolving_Bal                     317                947   \n",
       "Avg_Open_To_Buy                        7758               6791   \n",
       "Total_Amt_Chng_Q4_Q1                  0.585              0.845   \n",
       "Total_Trans_Amt                        2415               4255   \n",
       "Total_Trans_Ct                           41                 61   \n",
       "Total_Ct_Chng_Q4_Q1                   0.577              0.694   \n",
       "Avg_Utilization_Ratio                 0.039              0.122   \n",
       "\n",
       "                                       6413               6024  \\\n",
       "Attrition_Flag            Existing Customer  Existing Customer   \n",
       "Customer_Age                             43                 34   \n",
       "Gender                                    F                  F   \n",
       "Dependent_count                           3                  1   \n",
       "Education_Level                 High School           Graduate   \n",
       "Marital_Status                      Married             Single   \n",
       "Income_Category                     Unknown            Unknown   \n",
       "Card_Category                          Blue               Blue   \n",
       "Months_on_book                           31                 21   \n",
       "Total_Relationship_Count                  3                  6   \n",
       "Months_Inactive_12_mon                    3                  1   \n",
       "Contacts_Count_12_mon                     1                  3   \n",
       "Credit_Limit                           2692               6376   \n",
       "Total_Revolving_Bal                    2039               1322   \n",
       "Avg_Open_To_Buy                         653               5054   \n",
       "Total_Amt_Chng_Q4_Q1                  0.853              0.709   \n",
       "Total_Trans_Amt                        4622               5192   \n",
       "Total_Trans_Ct                           73                 70   \n",
       "Total_Ct_Chng_Q4_Q1                    0.78              0.628   \n",
       "Avg_Utilization_Ratio                 0.757              0.207   \n",
       "\n",
       "                                       3129               4189  \\\n",
       "Attrition_Flag            Existing Customer  Attrited Customer   \n",
       "Customer_Age                             53                 45   \n",
       "Gender                                    F                  F   \n",
       "Dependent_count                           1                  3   \n",
       "Education_Level                     College        High School   \n",
       "Marital_Status                     Divorced             Single   \n",
       "Income_Category                     Unknown            Unknown   \n",
       "Card_Category                          Blue               Blue   \n",
       "Months_on_book                           36                 35   \n",
       "Total_Relationship_Count                  3                  3   \n",
       "Months_Inactive_12_mon                    1                  2   \n",
       "Contacts_Count_12_mon                     3                  6   \n",
       "Credit_Limit                          17054               3512   \n",
       "Total_Revolving_Bal                       0               2517   \n",
       "Avg_Open_To_Buy                       17054                995   \n",
       "Total_Amt_Chng_Q4_Q1                  0.673              0.597   \n",
       "Total_Trans_Amt                        4659               1801   \n",
       "Total_Trans_Ct                           72                 48   \n",
       "Total_Ct_Chng_Q4_Q1                     0.6              0.548   \n",
       "Avg_Utilization_Ratio                     0              0.717   \n",
       "\n",
       "                                       8820               4223  \\\n",
       "Attrition_Flag            Attrited Customer  Existing Customer   \n",
       "Customer_Age                             47                 41   \n",
       "Gender                                    F                  F   \n",
       "Dependent_count                           4                  3   \n",
       "Education_Level                     College            College   \n",
       "Marital_Status                     Divorced             Single   \n",
       "Income_Category                     Unknown            Unknown   \n",
       "Card_Category                          Blue               Blue   \n",
       "Months_on_book                           36                 36   \n",
       "Total_Relationship_Count                  4                  4   \n",
       "Months_Inactive_12_mon                    3                  2   \n",
       "Contacts_Count_12_mon                     3                  4   \n",
       "Credit_Limit                           6769               4210   \n",
       "Total_Revolving_Bal                     274               1597   \n",
       "Avg_Open_To_Buy                        6495               2613   \n",
       "Total_Amt_Chng_Q4_Q1                  0.998              0.733   \n",
       "Total_Trans_Amt                        4885               4342   \n",
       "Total_Trans_Ct                           54                 72   \n",
       "Total_Ct_Chng_Q4_Q1                    0.35              0.674   \n",
       "Avg_Utilization_Ratio                  0.04              0.379   \n",
       "\n",
       "                                       8486               877   \n",
       "Attrition_Flag            Attrited Customer  Existing Customer  \n",
       "Customer_Age                             39                 42  \n",
       "Gender                                    F                  F  \n",
       "Dependent_count                           3                  2  \n",
       "Education_Level                    Graduate           Graduate  \n",
       "Marital_Status                      Married            Married  \n",
       "Income_Category                     Unknown            Unknown  \n",
       "Card_Category                          Blue               Blue  \n",
       "Months_on_book                           26                 33  \n",
       "Total_Relationship_Count                  2                  6  \n",
       "Months_Inactive_12_mon                    2                  1  \n",
       "Contacts_Count_12_mon                     3                  1  \n",
       "Credit_Limit                           4376              13770  \n",
       "Total_Revolving_Bal                     855               2517  \n",
       "Avg_Open_To_Buy                        3521              11253  \n",
       "Total_Amt_Chng_Q4_Q1                  0.839              0.788  \n",
       "Total_Trans_Amt                        2862               1582  \n",
       "Total_Trans_Ct                           52                 36  \n",
       "Total_Ct_Chng_Q4_Q1                   0.733              0.385  \n",
       "Avg_Utilization_Ratio                 0.195              0.183  "
      ]
     },
     "execution_count": 24,
     "metadata": {},
     "output_type": "execute_result"
    }
   ],
   "source": [
    "# Examine Unkown value; looks like values were missing randomly\n",
    "df[df.Income_Category == 'Unknown'].sample(10).T"
   ]
  },
  {
   "cell_type": "code",
   "execution_count": 25,
   "metadata": {},
   "outputs": [
    {
     "data": {
      "text/plain": [
       "Existing Customer    925\n",
       "Attrited Customer    187\n",
       "Name: Attrition_Flag, dtype: int64"
      ]
     },
     "execution_count": 25,
     "metadata": {},
     "output_type": "execute_result"
    }
   ],
   "source": [
    "# Missing value on target feature\n",
    "df.loc[df.Income_Category == 'Unknown', 'Attrition_Flag'].value_counts()"
   ]
  },
  {
   "cell_type": "code",
   "execution_count": 26,
   "metadata": {},
   "outputs": [
    {
     "data": {
      "image/png": "[encoded data removed]",
      "text/plain": [
       "<Figure size 432x288 with 1 Axes>"
      ]
     },
     "metadata": {
      "needs_background": "light"
     },
     "output_type": "display_data"
    }
   ],
   "source": [
    "# Examine relationship between Marital_Status and Attrited Customer by percentage graph\n",
    "# It seems like customers with 120K+ and Less than 40K income have higher chance of churning\n",
    "inc_pct = (df.groupby(['Income_Category', 'Attrition_Flag']).size() / df.groupby('Income_Category').size()).reset_index().rename({0:'percent'}, axis=1)\n",
    "sns.barplot(x='Attrition_Flag', hue='Income_Category', y='percent', data=inc_pct)\n",
    "plt.show()"
   ]
  },
  {
   "cell_type": "code",
   "execution_count": 27,
   "metadata": {},
   "outputs": [],
   "source": [
    "# Replace Unknown value with NaN for next stage of analysis\n",
    "df.Income_Category = df.Income_Category.replace('Unknown', np.nan)"
   ]
  },
  {
   "cell_type": "markdown",
   "metadata": {},
   "source": [
    "#### 3.6 Card_Category"
   ]
  },
  {
   "cell_type": "code",
   "execution_count": 28,
   "metadata": {},
   "outputs": [
    {
     "data": {
      "text/plain": [
       "Blue        9436\n",
       "Silver       555\n",
       "Gold         116\n",
       "Platinum      20\n",
       "Name: Card_Category, dtype: int64"
      ]
     },
     "execution_count": 28,
     "metadata": {},
     "output_type": "execute_result"
    }
   ],
   "source": [
    "#Examine Card_Category feature\n",
    "df.Card_Category.value_counts()"
   ]
  },
  {
   "cell_type": "code",
   "execution_count": 29,
   "metadata": {},
   "outputs": [
    {
     "data": {
      "text/plain": [
       "Blue        1519\n",
       "Silver        82\n",
       "Gold          21\n",
       "Platinum       5\n",
       "Name: Card_Category, dtype: int64"
      ]
     },
     "execution_count": 29,
     "metadata": {},
     "output_type": "execute_result"
    }
   ],
   "source": [
    "# Number of churning customers per card category\n",
    "df.loc[df.Attrition_Flag == 'Attrited Customer', 'Card_Category'].value_counts() "
   ]
  },
  {
   "cell_type": "code",
   "execution_count": 30,
   "metadata": {},
   "outputs": [
    {
     "data": {
      "text/plain": [
       "Blue        0.160979\n",
       "Silver      0.147748\n",
       "Gold        0.181034\n",
       "Platinum    0.250000\n",
       "Name: Card_Category, dtype: float64"
      ]
     },
     "execution_count": 30,
     "metadata": {},
     "output_type": "execute_result"
    }
   ],
   "source": [
    "# Percentage of churning customers by card category. \n",
    "# Platinum seems to have a higher churning rate, but there was only 20 cards. The sample was too small to know.\n",
    "df.loc[df.Attrition_Flag == 'Attrited Customer', 'Card_Category'].value_counts() / df.Card_Category.value_counts()"
   ]
  },
  {
   "cell_type": "markdown",
   "metadata": {},
   "source": [
    "### 4. Numeric Features"
   ]
  },
  {
   "cell_type": "code",
   "execution_count": 31,
   "metadata": {},
   "outputs": [
    {
     "data": {
      "text/html": [
       "<div>\n",
       "<style scoped>\n",
       "    .dataframe tbody tr th:only-of-type {\n",
       "        vertical-align: middle;\n",
       "    }\n",
       "\n",
       "    .dataframe tbody tr th {\n",
       "        vertical-align: top;\n",
       "    }\n",
       "\n",
       "    .dataframe thead th {\n",
       "        text-align: right;\n",
       "    }\n",
       "</style>\n",
       "<table border=\"1\" class=\"dataframe\">\n",
       "  <thead>\n",
       "    <tr style=\"text-align: right;\">\n",
       "      <th></th>\n",
       "      <th>count</th>\n",
       "      <th>mean</th>\n",
       "      <th>std</th>\n",
       "      <th>min</th>\n",
       "      <th>25%</th>\n",
       "      <th>50%</th>\n",
       "      <th>75%</th>\n",
       "      <th>max</th>\n",
       "    </tr>\n",
       "  </thead>\n",
       "  <tbody>\n",
       "    <tr>\n",
       "      <th>Customer_Age</th>\n",
       "      <td>10127.00</td>\n",
       "      <td>46.33</td>\n",
       "      <td>8.02</td>\n",
       "      <td>26.00</td>\n",
       "      <td>41.00</td>\n",
       "      <td>46.00</td>\n",
       "      <td>52.00</td>\n",
       "      <td>73.00</td>\n",
       "    </tr>\n",
       "    <tr>\n",
       "      <th>Dependent_count</th>\n",
       "      <td>10127.00</td>\n",
       "      <td>2.35</td>\n",
       "      <td>1.30</td>\n",
       "      <td>0.00</td>\n",
       "      <td>1.00</td>\n",
       "      <td>2.00</td>\n",
       "      <td>3.00</td>\n",
       "      <td>5.00</td>\n",
       "    </tr>\n",
       "    <tr>\n",
       "      <th>Months_on_book</th>\n",
       "      <td>10127.00</td>\n",
       "      <td>35.93</td>\n",
       "      <td>7.99</td>\n",
       "      <td>13.00</td>\n",
       "      <td>31.00</td>\n",
       "      <td>36.00</td>\n",
       "      <td>40.00</td>\n",
       "      <td>56.00</td>\n",
       "    </tr>\n",
       "    <tr>\n",
       "      <th>Total_Relationship_Count</th>\n",
       "      <td>10127.00</td>\n",
       "      <td>3.81</td>\n",
       "      <td>1.55</td>\n",
       "      <td>1.00</td>\n",
       "      <td>3.00</td>\n",
       "      <td>4.00</td>\n",
       "      <td>5.00</td>\n",
       "      <td>6.00</td>\n",
       "    </tr>\n",
       "    <tr>\n",
       "      <th>Months_Inactive_12_mon</th>\n",
       "      <td>10127.00</td>\n",
       "      <td>2.34</td>\n",
       "      <td>1.01</td>\n",
       "      <td>0.00</td>\n",
       "      <td>2.00</td>\n",
       "      <td>2.00</td>\n",
       "      <td>3.00</td>\n",
       "      <td>6.00</td>\n",
       "    </tr>\n",
       "    <tr>\n",
       "      <th>Contacts_Count_12_mon</th>\n",
       "      <td>10127.00</td>\n",
       "      <td>2.46</td>\n",
       "      <td>1.11</td>\n",
       "      <td>0.00</td>\n",
       "      <td>2.00</td>\n",
       "      <td>2.00</td>\n",
       "      <td>3.00</td>\n",
       "      <td>6.00</td>\n",
       "    </tr>\n",
       "    <tr>\n",
       "      <th>Credit_Limit</th>\n",
       "      <td>10127.00</td>\n",
       "      <td>8631.95</td>\n",
       "      <td>9088.78</td>\n",
       "      <td>1438.30</td>\n",
       "      <td>2555.00</td>\n",
       "      <td>4549.00</td>\n",
       "      <td>11067.50</td>\n",
       "      <td>34516.00</td>\n",
       "    </tr>\n",
       "    <tr>\n",
       "      <th>Total_Revolving_Bal</th>\n",
       "      <td>10127.00</td>\n",
       "      <td>1162.81</td>\n",
       "      <td>814.99</td>\n",
       "      <td>0.00</td>\n",
       "      <td>359.00</td>\n",
       "      <td>1276.00</td>\n",
       "      <td>1784.00</td>\n",
       "      <td>2517.00</td>\n",
       "    </tr>\n",
       "    <tr>\n",
       "      <th>Avg_Open_To_Buy</th>\n",
       "      <td>10127.00</td>\n",
       "      <td>7469.14</td>\n",
       "      <td>9090.69</td>\n",
       "      <td>3.00</td>\n",
       "      <td>1324.50</td>\n",
       "      <td>3474.00</td>\n",
       "      <td>9859.00</td>\n",
       "      <td>34516.00</td>\n",
       "    </tr>\n",
       "    <tr>\n",
       "      <th>Total_Amt_Chng_Q4_Q1</th>\n",
       "      <td>10127.00</td>\n",
       "      <td>0.76</td>\n",
       "      <td>0.22</td>\n",
       "      <td>0.00</td>\n",
       "      <td>0.63</td>\n",
       "      <td>0.74</td>\n",
       "      <td>0.86</td>\n",
       "      <td>3.40</td>\n",
       "    </tr>\n",
       "    <tr>\n",
       "      <th>Total_Trans_Amt</th>\n",
       "      <td>10127.00</td>\n",
       "      <td>4404.09</td>\n",
       "      <td>3397.13</td>\n",
       "      <td>510.00</td>\n",
       "      <td>2155.50</td>\n",
       "      <td>3899.00</td>\n",
       "      <td>4741.00</td>\n",
       "      <td>18484.00</td>\n",
       "    </tr>\n",
       "    <tr>\n",
       "      <th>Total_Trans_Ct</th>\n",
       "      <td>10127.00</td>\n",
       "      <td>64.86</td>\n",
       "      <td>23.47</td>\n",
       "      <td>10.00</td>\n",
       "      <td>45.00</td>\n",
       "      <td>67.00</td>\n",
       "      <td>81.00</td>\n",
       "      <td>139.00</td>\n",
       "    </tr>\n",
       "    <tr>\n",
       "      <th>Total_Ct_Chng_Q4_Q1</th>\n",
       "      <td>10127.00</td>\n",
       "      <td>0.71</td>\n",
       "      <td>0.24</td>\n",
       "      <td>0.00</td>\n",
       "      <td>0.58</td>\n",
       "      <td>0.70</td>\n",
       "      <td>0.82</td>\n",
       "      <td>3.71</td>\n",
       "    </tr>\n",
       "    <tr>\n",
       "      <th>Avg_Utilization_Ratio</th>\n",
       "      <td>10127.00</td>\n",
       "      <td>0.27</td>\n",
       "      <td>0.28</td>\n",
       "      <td>0.00</td>\n",
       "      <td>0.02</td>\n",
       "      <td>0.18</td>\n",
       "      <td>0.50</td>\n",
       "      <td>1.00</td>\n",
       "    </tr>\n",
       "  </tbody>\n",
       "</table>\n",
       "</div>"
      ],
      "text/plain": [
       "                            count    mean     std     min     25%     50%  \\\n",
       "Customer_Age             10127.00   46.33    8.02   26.00   41.00   46.00   \n",
       "Dependent_count          10127.00    2.35    1.30    0.00    1.00    2.00   \n",
       "Months_on_book           10127.00   35.93    7.99   13.00   31.00   36.00   \n",
       "Total_Relationship_Count 10127.00    3.81    1.55    1.00    3.00    4.00   \n",
       "Months_Inactive_12_mon   10127.00    2.34    1.01    0.00    2.00    2.00   \n",
       "Contacts_Count_12_mon    10127.00    2.46    1.11    0.00    2.00    2.00   \n",
       "Credit_Limit             10127.00 8631.95 9088.78 1438.30 2555.00 4549.00   \n",
       "Total_Revolving_Bal      10127.00 1162.81  814.99    0.00  359.00 1276.00   \n",
       "Avg_Open_To_Buy          10127.00 7469.14 9090.69    3.00 1324.50 3474.00   \n",
       "Total_Amt_Chng_Q4_Q1     10127.00    0.76    0.22    0.00    0.63    0.74   \n",
       "Total_Trans_Amt          10127.00 4404.09 3397.13  510.00 2155.50 3899.00   \n",
       "Total_Trans_Ct           10127.00   64.86   23.47   10.00   45.00   67.00   \n",
       "Total_Ct_Chng_Q4_Q1      10127.00    0.71    0.24    0.00    0.58    0.70   \n",
       "Avg_Utilization_Ratio    10127.00    0.27    0.28    0.00    0.02    0.18   \n",
       "\n",
       "                              75%      max  \n",
       "Customer_Age                52.00    73.00  \n",
       "Dependent_count              3.00     5.00  \n",
       "Months_on_book              40.00    56.00  \n",
       "Total_Relationship_Count     5.00     6.00  \n",
       "Months_Inactive_12_mon       3.00     6.00  \n",
       "Contacts_Count_12_mon        3.00     6.00  \n",
       "Credit_Limit             11067.50 34516.00  \n",
       "Total_Revolving_Bal       1784.00  2517.00  \n",
       "Avg_Open_To_Buy           9859.00 34516.00  \n",
       "Total_Amt_Chng_Q4_Q1         0.86     3.40  \n",
       "Total_Trans_Amt           4741.00 18484.00  \n",
       "Total_Trans_Ct              81.00   139.00  \n",
       "Total_Ct_Chng_Q4_Q1          0.82     3.71  \n",
       "Avg_Utilization_Ratio        0.50     1.00  "
      ]
     },
     "execution_count": 31,
     "metadata": {},
     "output_type": "execute_result"
    }
   ],
   "source": [
    "# Examine numeric features\n",
    "pd.set_option('display.float_format', lambda x: '%.2f' % x)\n",
    "df.describe().T"
   ]
  },
  {
   "cell_type": "code",
   "execution_count": 32,
   "metadata": {},
   "outputs": [
    {
     "data": {
      "image/png": "[encoded data removed]",
      "text/plain": [
       "<Figure size 1080x720 with 16 Axes>"
      ]
     },
     "metadata": {
      "needs_background": "light"
     },
     "output_type": "display_data"
    }
   ],
   "source": [
    "# Examine distribution of numeric features\n",
    "df.hist(figsize=(15,10))\n",
    "plt.subplots_adjust(hspace=0.5)"
   ]
  },
  {
   "cell_type": "markdown",
   "metadata": {},
   "source": [
    "#### 4.1 Months_on_book"
   ]
  },
  {
   "cell_type": "code",
   "execution_count": 33,
   "metadata": {},
   "outputs": [
    {
     "data": {
      "text/plain": [
       "36    2463\n",
       "37     358\n",
       "34     353\n",
       "38     347\n",
       "39     341\n",
       "Name: Months_on_book, dtype: int64"
      ]
     },
     "execution_count": 33,
     "metadata": {},
     "output_type": "execute_result"
    }
   ],
   "source": [
    "# Number of accounts with 36 months on book was about 7 times higher than the second most frequent value.\n",
    "# Was there really an enormous credit cards opened 36 months ago?\n",
    "# Or there was an error in data input?\n",
    "df.Months_on_book.value_counts().head()"
   ]
  },
  {
   "cell_type": "code",
   "execution_count": 34,
   "metadata": {},
   "outputs": [
    {
     "data": {
      "text/plain": [
       "35.928409203120374"
      ]
     },
     "execution_count": 34,
     "metadata": {},
     "output_type": "execute_result"
    }
   ],
   "source": [
    "# Mean was also 36 months, so it was ok to leave as is\n",
    "df.Months_on_book.mean()"
   ]
  },
  {
   "cell_type": "markdown",
   "metadata": {},
   "source": [
    "#### 4.2 Month_inactive_12_mon"
   ]
  },
  {
   "cell_type": "code",
   "execution_count": 35,
   "metadata": {},
   "outputs": [
    {
     "data": {
      "text/plain": [
       "3    3846\n",
       "2    3282\n",
       "1    2233\n",
       "4     435\n",
       "5     178\n",
       "6     124\n",
       "0      29\n",
       "Name: Months_Inactive_12_mon, dtype: int64"
      ]
     },
     "execution_count": 35,
     "metadata": {},
     "output_type": "execute_result"
    }
   ],
   "source": [
    "# Looks like inactive account for 6 months will be closed\n",
    "df.Months_Inactive_12_mon.value_counts()"
   ]
  },
  {
   "cell_type": "code",
   "execution_count": 36,
   "metadata": {},
   "outputs": [
    {
     "data": {
      "text/plain": [
       "Attrition_Flag     Months_Inactive_12_mon\n",
       "Attrited Customer  0                        0.52\n",
       "                   1                        0.04\n",
       "                   2                        0.15\n",
       "                   3                        0.21\n",
       "                   4                        0.30\n",
       "                   5                        0.18\n",
       "                   6                        0.15\n",
       "dtype: float64"
      ]
     },
     "execution_count": 36,
     "metadata": {},
     "output_type": "execute_result"
    }
   ],
   "source": [
    "# Examine relationship between Months_Inactive_12_mon and Attrition_Flag by percentage\n",
    "# 0 month of inactive has highest rate of churning; looks like these customers actively decided to move to another card issuers\n",
    "inactive_pct = (df.groupby(['Attrition_Flag', 'Months_Inactive_12_mon']).size() / df.groupby('Months_Inactive_12_mon').size())\n",
    "inactive_pct[:7]"
   ]
  },
  {
   "cell_type": "markdown",
   "metadata": {},
   "source": [
    "#### 4.3 Credit_Limit"
   ]
  },
  {
   "cell_type": "code",
   "execution_count": 37,
   "metadata": {},
   "outputs": [
    {
     "data": {
      "text/plain": [
       "<AxesSubplot:xlabel='Credit_Limit'>"
      ]
     },
     "execution_count": 37,
     "metadata": {},
     "output_type": "execute_result"
    },
    {
     "data": {
      "image/png": "[encoded data removed]",
      "text/plain": [
       "<Figure size 432x288 with 1 Axes>"
      ]
     },
     "metadata": {
      "needs_background": "light"
     },
     "output_type": "display_data"
    }
   ],
   "source": [
    "# Examine outliers in Credit_Limit\n",
    "sns.boxplot(x=df.Credit_Limit)"
   ]
  },
  {
   "cell_type": "code",
   "execution_count": 38,
   "metadata": {},
   "outputs": [
    {
     "data": {
      "text/plain": [
       "<AxesSubplot:>"
      ]
     },
     "execution_count": 38,
     "metadata": {},
     "output_type": "execute_result"
    },
    {
     "data": {
      "image/png": "[encoded data removed]",
      "text/plain": [
       "<Figure size 432x288 with 1 Axes>"
      ]
     },
     "metadata": {
      "needs_background": "light"
     },
     "output_type": "display_data"
    }
   ],
   "source": [
    "# Examine outliers in Credit_Limit\n",
    "# The majority of the Credit Limit was below 5,000, this makes the Credit Limit of over $23,000 become outliers\n",
    "# The value of the outlier looks correct, not from error\n",
    "df.Credit_Limit.hist()"
   ]
  },
  {
   "cell_type": "code",
   "execution_count": 39,
   "metadata": {},
   "outputs": [
    {
     "data": {
      "text/plain": [
       "34516.00    508\n",
       "1438.30     507\n",
       "15987.00     18\n",
       "9959.00      18\n",
       "23981.00     12\n",
       "Name: Credit_Limit, dtype: int64"
      ]
     },
     "execution_count": 39,
     "metadata": {},
     "output_type": "execute_result"
    }
   ],
   "source": [
    "# Looks like $34,516 and $1,438.30 were the upper and lower limit of credit cards \n",
    "df.Credit_Limit.value_counts().head()"
   ]
  },
  {
   "cell_type": "code",
   "execution_count": 40,
   "metadata": {},
   "outputs": [
    {
     "data": {
      "text/html": [
       "<div>\n",
       "<style scoped>\n",
       "    .dataframe tbody tr th:only-of-type {\n",
       "        vertical-align: middle;\n",
       "    }\n",
       "\n",
       "    .dataframe tbody tr th {\n",
       "        vertical-align: top;\n",
       "    }\n",
       "\n",
       "    .dataframe thead th {\n",
       "        text-align: right;\n",
       "    }\n",
       "</style>\n",
       "<table border=\"1\" class=\"dataframe\">\n",
       "  <thead>\n",
       "    <tr style=\"text-align: right;\">\n",
       "      <th></th>\n",
       "      <th>Attrition_Flag</th>\n",
       "      <th>Customer_Age</th>\n",
       "      <th>Gender</th>\n",
       "      <th>Dependent_count</th>\n",
       "      <th>Education_Level</th>\n",
       "      <th>Marital_Status</th>\n",
       "      <th>Income_Category</th>\n",
       "      <th>Card_Category</th>\n",
       "      <th>Months_on_book</th>\n",
       "      <th>Total_Relationship_Count</th>\n",
       "      <th>Months_Inactive_12_mon</th>\n",
       "      <th>Contacts_Count_12_mon</th>\n",
       "      <th>Credit_Limit</th>\n",
       "      <th>Total_Revolving_Bal</th>\n",
       "      <th>Avg_Open_To_Buy</th>\n",
       "      <th>Total_Amt_Chng_Q4_Q1</th>\n",
       "      <th>Total_Trans_Amt</th>\n",
       "      <th>Total_Trans_Ct</th>\n",
       "      <th>Total_Ct_Chng_Q4_Q1</th>\n",
       "      <th>Avg_Utilization_Ratio</th>\n",
       "    </tr>\n",
       "  </thead>\n",
       "  <tbody>\n",
       "  </tbody>\n",
       "</table>\n",
       "</div>"
      ],
      "text/plain": [
       "Empty DataFrame\n",
       "Columns: [Attrition_Flag, Customer_Age, Gender, Dependent_count, Education_Level, Marital_Status, Income_Category, Card_Category, Months_on_book, Total_Relationship_Count, Months_Inactive_12_mon, Contacts_Count_12_mon, Credit_Limit, Total_Revolving_Bal, Avg_Open_To_Buy, Total_Amt_Chng_Q4_Q1, Total_Trans_Amt, Total_Trans_Ct, Total_Ct_Chng_Q4_Q1, Avg_Utilization_Ratio]\n",
       "Index: []"
      ]
     },
     "execution_count": 40,
     "metadata": {},
     "output_type": "execute_result"
    }
   ],
   "source": [
    "# $34,516 was the maximum credit limit given to credit cards\n",
    "df.loc[df.Credit_Limit>34516]"
   ]
  },
  {
   "cell_type": "code",
   "execution_count": 41,
   "metadata": {},
   "outputs": [
    {
     "data": {
      "text/plain": [
       "Silver      221\n",
       "Blue        198\n",
       "Gold         74\n",
       "Platinum     15\n",
       "Name: Card_Category, dtype: int64"
      ]
     },
     "execution_count": 41,
     "metadata": {},
     "output_type": "execute_result"
    }
   ],
   "source": [
    "# Around 200 Blue and Silver cards have the maximum limit\n",
    "df.loc[df.Credit_Limit==34516, 'Card_Category'].value_counts()"
   ]
  },
  {
   "cell_type": "code",
   "execution_count": 42,
   "metadata": {},
   "outputs": [
    {
     "data": {
      "text/html": [
       "<div>\n",
       "<style scoped>\n",
       "    .dataframe tbody tr th:only-of-type {\n",
       "        vertical-align: middle;\n",
       "    }\n",
       "\n",
       "    .dataframe tbody tr th {\n",
       "        vertical-align: top;\n",
       "    }\n",
       "\n",
       "    .dataframe thead th {\n",
       "        text-align: right;\n",
       "    }\n",
       "</style>\n",
       "<table border=\"1\" class=\"dataframe\">\n",
       "  <thead>\n",
       "    <tr style=\"text-align: right;\">\n",
       "      <th></th>\n",
       "      <th>Attrition_Flag</th>\n",
       "      <th>Customer_Age</th>\n",
       "      <th>Gender</th>\n",
       "      <th>Dependent_count</th>\n",
       "      <th>Education_Level</th>\n",
       "      <th>Marital_Status</th>\n",
       "      <th>Income_Category</th>\n",
       "      <th>Card_Category</th>\n",
       "      <th>Months_on_book</th>\n",
       "      <th>Total_Relationship_Count</th>\n",
       "      <th>Months_Inactive_12_mon</th>\n",
       "      <th>Contacts_Count_12_mon</th>\n",
       "      <th>Credit_Limit</th>\n",
       "      <th>Total_Revolving_Bal</th>\n",
       "      <th>Avg_Open_To_Buy</th>\n",
       "      <th>Total_Amt_Chng_Q4_Q1</th>\n",
       "      <th>Total_Trans_Amt</th>\n",
       "      <th>Total_Trans_Ct</th>\n",
       "      <th>Total_Ct_Chng_Q4_Q1</th>\n",
       "      <th>Avg_Utilization_Ratio</th>\n",
       "    </tr>\n",
       "  </thead>\n",
       "  <tbody>\n",
       "  </tbody>\n",
       "</table>\n",
       "</div>"
      ],
      "text/plain": [
       "Empty DataFrame\n",
       "Columns: [Attrition_Flag, Customer_Age, Gender, Dependent_count, Education_Level, Marital_Status, Income_Category, Card_Category, Months_on_book, Total_Relationship_Count, Months_Inactive_12_mon, Contacts_Count_12_mon, Credit_Limit, Total_Revolving_Bal, Avg_Open_To_Buy, Total_Amt_Chng_Q4_Q1, Total_Trans_Amt, Total_Trans_Ct, Total_Ct_Chng_Q4_Q1, Avg_Utilization_Ratio]\n",
       "Index: []"
      ]
     },
     "execution_count": 42,
     "metadata": {},
     "output_type": "execute_result"
    }
   ],
   "source": [
    "# $1,438.30 was the minimum credit limit credit cards\n",
    "df.loc[df.Credit_Limit<1438.30]"
   ]
  },
  {
   "cell_type": "code",
   "execution_count": 43,
   "metadata": {},
   "outputs": [
    {
     "data": {
      "text/plain": [
       "Blue    507\n",
       "Name: Card_Category, dtype: int64"
      ]
     },
     "execution_count": 43,
     "metadata": {},
     "output_type": "execute_result"
    }
   ],
   "source": [
    "# $1,438.30 was the minimum credit limit for Blue credit cards\n",
    "df.loc[df.Credit_Limit==1438.30, 'Card_Category'].value_counts()"
   ]
  },
  {
   "cell_type": "markdown",
   "metadata": {},
   "source": [
    "#### 4.4 Total_Revolving_Bal"
   ]
  },
  {
   "cell_type": "code",
   "execution_count": 44,
   "metadata": {},
   "outputs": [
    {
     "data": {
      "text/plain": [
       "<AxesSubplot:xlabel='Total_Revolving_Bal'>"
      ]
     },
     "execution_count": 44,
     "metadata": {},
     "output_type": "execute_result"
    },
    {
     "data": {
      "image/png": "[encoded data removed]",
      "text/plain": [
       "<Figure size 432x288 with 1 Axes>"
      ]
     },
     "metadata": {
      "needs_background": "light"
     },
     "output_type": "display_data"
    }
   ],
   "source": [
    "# boxplot shows no outliers\n",
    "sns.boxplot(x=df.Total_Revolving_Bal)"
   ]
  },
  {
   "cell_type": "code",
   "execution_count": 45,
   "metadata": {},
   "outputs": [
    {
     "data": {
      "text/plain": [
       "2517"
      ]
     },
     "execution_count": 45,
     "metadata": {},
     "output_type": "execute_result"
    }
   ],
   "source": [
    "# The maximum revolving balance was $2,517\n",
    "df.Total_Revolving_Bal.max()"
   ]
  },
  {
   "cell_type": "code",
   "execution_count": 46,
   "metadata": {},
   "outputs": [
    {
     "data": {
      "text/plain": [
       "0       2470\n",
       "2517     508\n",
       "1965      12\n",
       "1480      12\n",
       "1720      11\n",
       "Name: Total_Revolving_Bal, dtype: int64"
      ]
     },
     "execution_count": 46,
     "metadata": {},
     "output_type": "execute_result"
    }
   ],
   "source": [
    "# around 24% card users paid off their credit card regularly. 5% card holders only paid the minimum requirement.\n",
    "df.Total_Revolving_Bal.value_counts().head()"
   ]
  },
  {
   "cell_type": "markdown",
   "metadata": {},
   "source": [
    "#### 4.5 Avg_Open_To_Buy"
   ]
  },
  {
   "cell_type": "code",
   "execution_count": 47,
   "metadata": {},
   "outputs": [
    {
     "data": {
      "text/plain": [
       "<AxesSubplot:xlabel='Avg_Open_To_Buy'>"
      ]
     },
     "execution_count": 47,
     "metadata": {},
     "output_type": "execute_result"
    },
    {
     "data": {
      "image/png": "[encoded data removed]",
      "text/plain": [
       "<Figure size 432x288 with 1 Axes>"
      ]
     },
     "metadata": {
      "needs_background": "light"
     },
     "output_type": "display_data"
    }
   ],
   "source": [
    "# Examine outliers in Avg_Open_To_Buy\n",
    "sns.boxplot(x = df.Avg_Open_To_Buy)"
   ]
  },
  {
   "cell_type": "code",
   "execution_count": 48,
   "metadata": {},
   "outputs": [
    {
     "data": {
      "text/plain": [
       "<AxesSubplot:>"
      ]
     },
     "execution_count": 48,
     "metadata": {},
     "output_type": "execute_result"
    },
    {
     "data": {
      "image/png": "[encoded data removed]",
      "text/plain": [
       "<Figure size 432x288 with 1 Axes>"
      ]
     },
     "metadata": {
      "needs_background": "light"
     },
     "output_type": "display_data"
    }
   ],
   "source": [
    "# Ave_Open_To_Buy has distribution similar to Credit_Limit\n",
    "# It makes sense that Avg_Open_To_Buy would be close to the Credit_Limit\n",
    "df.Avg_Open_To_Buy.hist()"
   ]
  },
  {
   "cell_type": "markdown",
   "metadata": {},
   "source": [
    "#### 4.5 Total_Trans_Amt\n"
   ]
  },
  {
   "cell_type": "code",
   "execution_count": 49,
   "metadata": {},
   "outputs": [
    {
     "data": {
      "text/plain": [
       "<AxesSubplot:xlabel='Total_Trans_Amt'>"
      ]
     },
     "execution_count": 49,
     "metadata": {},
     "output_type": "execute_result"
    },
    {
     "data": {
      "image/png": "[encoded data removed]",
      "text/plain": [
       "<Figure size 432x288 with 1 Axes>"
      ]
     },
     "metadata": {
      "needs_background": "light"
     },
     "output_type": "display_data"
    }
   ],
   "source": [
    "# Examine outliers in Total_Trans_Amt\n",
    "sns.boxplot(x=df.Total_Trans_Amt)"
   ]
  },
  {
   "cell_type": "code",
   "execution_count": 50,
   "metadata": {},
   "outputs": [
    {
     "data": {
      "text/plain": [
       "<AxesSubplot:>"
      ]
     },
     "execution_count": 50,
     "metadata": {},
     "output_type": "execute_result"
    },
    {
     "data": {
      "image/png": "[encoded data removed]",
      "text/plain": [
       "<Figure size 432x288 with 1 Axes>"
      ]
     },
     "metadata": {
      "needs_background": "light"
     },
     "output_type": "display_data"
    }
   ],
   "source": [
    "# Examine outliers in Total_Trans_Amt\n",
    "# The majority of the Total_Trans_Amt was below 6,000, this makes the value of over $6,000 become outliers\n",
    "# There was around 700 customers with total transactions over 13,000\n",
    "# this was possible since there was a number of customers with very high credit limit\n",
    "# The value of the outlier looks correct, not from error\n",
    "df.Total_Trans_Amt.hist()"
   ]
  },
  {
   "cell_type": "markdown",
   "metadata": {},
   "source": [
    "### 5. Save Data"
   ]
  },
  {
   "cell_type": "code",
   "execution_count": 51,
   "metadata": {},
   "outputs": [
    {
     "name": "stdout",
     "output_type": "stream",
     "text": [
      "<class 'pandas.core.frame.DataFrame'>\n",
      "RangeIndex: 10127 entries, 0 to 10126\n",
      "Data columns (total 20 columns):\n",
      " #   Column                    Non-Null Count  Dtype  \n",
      "---  ------                    --------------  -----  \n",
      " 0   Attrition_Flag            10127 non-null  object \n",
      " 1   Customer_Age              10127 non-null  int64  \n",
      " 2   Gender                    10127 non-null  object \n",
      " 3   Dependent_count           10127 non-null  int64  \n",
      " 4   Education_Level           8608 non-null   object \n",
      " 5   Marital_Status            9378 non-null   object \n",
      " 6   Income_Category           9015 non-null   object \n",
      " 7   Card_Category             10127 non-null  object \n",
      " 8   Months_on_book            10127 non-null  int64  \n",
      " 9   Total_Relationship_Count  10127 non-null  int64  \n",
      " 10  Months_Inactive_12_mon    10127 non-null  int64  \n",
      " 11  Contacts_Count_12_mon     10127 non-null  int64  \n",
      " 12  Credit_Limit              10127 non-null  float64\n",
      " 13  Total_Revolving_Bal       10127 non-null  int64  \n",
      " 14  Avg_Open_To_Buy           10127 non-null  float64\n",
      " 15  Total_Amt_Chng_Q4_Q1      10127 non-null  float64\n",
      " 16  Total_Trans_Amt           10127 non-null  int64  \n",
      " 17  Total_Trans_Ct            10127 non-null  int64  \n",
      " 18  Total_Ct_Chng_Q4_Q1       10127 non-null  float64\n",
      " 19  Avg_Utilization_Ratio     10127 non-null  float64\n",
      "dtypes: float64(5), int64(9), object(6)\n",
      "memory usage: 1.5+ MB\n"
     ]
    }
   ],
   "source": [
    "df.info()"
   ]
  },
  {
   "cell_type": "code",
   "execution_count": 52,
   "metadata": {},
   "outputs": [
    {
     "data": {
      "text/plain": [
       "(10127, 20)"
      ]
     },
     "execution_count": 52,
     "metadata": {},
     "output_type": "execute_result"
    }
   ],
   "source": [
    "df.shape"
   ]
  },
  {
   "cell_type": "code",
   "execution_count": 53,
   "metadata": {},
   "outputs": [
    {
     "data": {
      "text/plain": [
       "Attrition_Flag              0.00\n",
       "Customer_Age                0.00\n",
       "Gender                      0.00\n",
       "Dependent_count             0.00\n",
       "Education_Level            15.00\n",
       "Marital_Status              7.40\n",
       "Income_Category            10.98\n",
       "Card_Category               0.00\n",
       "Months_on_book              0.00\n",
       "Total_Relationship_Count    0.00\n",
       "Months_Inactive_12_mon      0.00\n",
       "Contacts_Count_12_mon       0.00\n",
       "Credit_Limit                0.00\n",
       "Total_Revolving_Bal         0.00\n",
       "Avg_Open_To_Buy             0.00\n",
       "Total_Amt_Chng_Q4_Q1        0.00\n",
       "Total_Trans_Amt             0.00\n",
       "Total_Trans_Ct              0.00\n",
       "Total_Ct_Chng_Q4_Q1         0.00\n",
       "Avg_Utilization_Ratio       0.00\n",
       "dtype: float64"
      ]
     },
     "execution_count": 53,
     "metadata": {},
     "output_type": "execute_result"
    }
   ],
   "source": [
    "# missing value percentage\n",
    "(len(df) - df.count())/len(df)*100"
   ]
  },
  {
   "cell_type": "code",
   "execution_count": 54,
   "metadata": {},
   "outputs": [],
   "source": [
    "df.to_csv('Dataset/BankChurners_cleaned.csv')"
   ]
  }
 ],
 "metadata": {
  "kernelspec": {
   "display_name": "Python 3",
   "language": "python",
   "name": "python3"
  },
  "language_info": {
   "codemirror_mode": {
    "name": "ipython",
    "version": 3
   },
   "file_extension": ".py",
   "mimetype": "text/x-python",
   "name": "python",
   "nbconvert_exporter": "python",
   "pygments_lexer": "ipython3",
   "version": "3.8.5"
  }
 },
 "nbformat": 4,
 "nbformat_minor": 4
}
